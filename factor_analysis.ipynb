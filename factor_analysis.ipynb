{
 "cells": [
  {
   "cell_type": "markdown",
   "metadata": {},
   "source": [
    "Factor Analysis of Personality Data:  \n",
    "These are 1000 user ratings for different features of personality  "
   ]
  },
  {
   "cell_type": "code",
   "execution_count": 1,
   "metadata": {},
   "outputs": [],
   "source": [
    "import pandas as pd\n",
    "import numpy as np\n",
    "import matplotlib.pyplot as plt\n",
    "%matplotlib inline\n",
    "import seaborn as sns"
   ]
  },
  {
   "cell_type": "code",
   "execution_count": 2,
   "metadata": {},
   "outputs": [],
   "source": [
    "data = pd.read_csv(\"PersonalityData.xls\")"
   ]
  },
  {
   "cell_type": "code",
   "execution_count": 14,
   "metadata": {},
   "outputs": [
    {
     "name": "stdout",
     "output_type": "stream",
     "text": [
      "<class 'pandas.core.frame.DataFrame'>\n",
      "RangeIndex: 1000 entries, 0 to 999\n",
      "Data columns (total 12 columns):\n",
      " #   Column        Non-Null Count  Dtype\n",
      "---  ------        --------------  -----\n",
      " 0   talkative     1000 non-null   int64\n",
      " 1   thorough      1000 non-null   int64\n",
      " 2   reserved      1000 non-null   int64\n",
      " 3   careless      1000 non-null   int64\n",
      " 4   relaxed       1000 non-null   int64\n",
      " 5   reliable      1000 non-null   int64\n",
      " 6   tense         1000 non-null   int64\n",
      " 7   disorganized  1000 non-null   int64\n",
      " 8   worries       1000 non-null   int64\n",
      " 9   shy           1000 non-null   int64\n",
      " 10  calm          1000 non-null   int64\n",
      " 11  outgoing      1000 non-null   int64\n",
      "dtypes: int64(12)\n",
      "memory usage: 93.9 KB\n"
     ]
    }
   ],
   "source": [
    "data.info()"
   ]
  },
  {
   "cell_type": "code",
   "execution_count": 3,
   "metadata": {},
   "outputs": [
    {
     "data": {
      "text/html": [
       "<div>\n",
       "<style scoped>\n",
       "    .dataframe tbody tr th:only-of-type {\n",
       "        vertical-align: middle;\n",
       "    }\n",
       "\n",
       "    .dataframe tbody tr th {\n",
       "        vertical-align: top;\n",
       "    }\n",
       "\n",
       "    .dataframe thead th {\n",
       "        text-align: right;\n",
       "    }\n",
       "</style>\n",
       "<table border=\"1\" class=\"dataframe\">\n",
       "  <thead>\n",
       "    <tr style=\"text-align: right;\">\n",
       "      <th></th>\n",
       "      <th>Unnamed: 0</th>\n",
       "      <th>talkative</th>\n",
       "      <th>thorough</th>\n",
       "      <th>reserved</th>\n",
       "      <th>careless</th>\n",
       "      <th>relaxed</th>\n",
       "      <th>reliable</th>\n",
       "      <th>tense</th>\n",
       "      <th>disorganized</th>\n",
       "      <th>worries</th>\n",
       "      <th>shy</th>\n",
       "      <th>calm</th>\n",
       "      <th>outgoing</th>\n",
       "    </tr>\n",
       "  </thead>\n",
       "  <tbody>\n",
       "    <tr>\n",
       "      <th>0</th>\n",
       "      <td>row</td>\n",
       "      <td>4</td>\n",
       "      <td>4</td>\n",
       "      <td>4</td>\n",
       "      <td>1</td>\n",
       "      <td>3</td>\n",
       "      <td>4</td>\n",
       "      <td>2</td>\n",
       "      <td>1</td>\n",
       "      <td>3</td>\n",
       "      <td>3</td>\n",
       "      <td>2</td>\n",
       "      <td>5</td>\n",
       "    </tr>\n",
       "    <tr>\n",
       "      <th>1</th>\n",
       "      <td>row</td>\n",
       "      <td>2</td>\n",
       "      <td>5</td>\n",
       "      <td>2</td>\n",
       "      <td>1</td>\n",
       "      <td>4</td>\n",
       "      <td>5</td>\n",
       "      <td>4</td>\n",
       "      <td>1</td>\n",
       "      <td>4</td>\n",
       "      <td>3</td>\n",
       "      <td>3</td>\n",
       "      <td>3</td>\n",
       "    </tr>\n",
       "    <tr>\n",
       "      <th>2</th>\n",
       "      <td>row</td>\n",
       "      <td>3</td>\n",
       "      <td>4</td>\n",
       "      <td>5</td>\n",
       "      <td>2</td>\n",
       "      <td>2</td>\n",
       "      <td>5</td>\n",
       "      <td>5</td>\n",
       "      <td>3</td>\n",
       "      <td>4</td>\n",
       "      <td>5</td>\n",
       "      <td>4</td>\n",
       "      <td>3</td>\n",
       "    </tr>\n",
       "    <tr>\n",
       "      <th>3</th>\n",
       "      <td>row</td>\n",
       "      <td>3</td>\n",
       "      <td>5</td>\n",
       "      <td>4</td>\n",
       "      <td>1</td>\n",
       "      <td>3</td>\n",
       "      <td>5</td>\n",
       "      <td>3</td>\n",
       "      <td>2</td>\n",
       "      <td>2</td>\n",
       "      <td>3</td>\n",
       "      <td>5</td>\n",
       "      <td>5</td>\n",
       "    </tr>\n",
       "    <tr>\n",
       "      <th>4</th>\n",
       "      <td>row</td>\n",
       "      <td>5</td>\n",
       "      <td>2</td>\n",
       "      <td>2</td>\n",
       "      <td>2</td>\n",
       "      <td>4</td>\n",
       "      <td>4</td>\n",
       "      <td>3</td>\n",
       "      <td>3</td>\n",
       "      <td>3</td>\n",
       "      <td>1</td>\n",
       "      <td>5</td>\n",
       "      <td>4</td>\n",
       "    </tr>\n",
       "  </tbody>\n",
       "</table>\n",
       "</div>"
      ],
      "text/plain": [
       "  Unnamed: 0  talkative  thorough  reserved  careless  relaxed  reliable  \\\n",
       "0        row          4         4         4         1        3         4   \n",
       "1        row          2         5         2         1        4         5   \n",
       "2        row          3         4         5         2        2         5   \n",
       "3        row          3         5         4         1        3         5   \n",
       "4        row          5         2         2         2        4         4   \n",
       "\n",
       "   tense  disorganized  worries  shy  calm  outgoing  \n",
       "0      2             1        3    3     2         5  \n",
       "1      4             1        4    3     3         3  \n",
       "2      5             3        4    5     4         3  \n",
       "3      3             2        2    3     5         5  \n",
       "4      3             3        3    1     5         4  "
      ]
     },
     "execution_count": 3,
     "metadata": {},
     "output_type": "execute_result"
    }
   ],
   "source": [
    "data.head()"
   ]
  },
  {
   "cell_type": "code",
   "execution_count": 4,
   "metadata": {},
   "outputs": [],
   "source": [
    "data.drop(data.columns.tolist()[0], inplace = True, axis = 1)"
   ]
  },
  {
   "cell_type": "code",
   "execution_count": 5,
   "metadata": {},
   "outputs": [],
   "source": [
    "cols = data.columns.tolist()"
   ]
  },
  {
   "cell_type": "code",
   "execution_count": 6,
   "metadata": {},
   "outputs": [
    {
     "data": {
      "text/html": [
       "<div>\n",
       "<style scoped>\n",
       "    .dataframe tbody tr th:only-of-type {\n",
       "        vertical-align: middle;\n",
       "    }\n",
       "\n",
       "    .dataframe tbody tr th {\n",
       "        vertical-align: top;\n",
       "    }\n",
       "\n",
       "    .dataframe thead th {\n",
       "        text-align: right;\n",
       "    }\n",
       "</style>\n",
       "<table border=\"1\" class=\"dataframe\">\n",
       "  <thead>\n",
       "    <tr style=\"text-align: right;\">\n",
       "      <th></th>\n",
       "      <th>talkative</th>\n",
       "      <th>thorough</th>\n",
       "      <th>reserved</th>\n",
       "      <th>careless</th>\n",
       "      <th>relaxed</th>\n",
       "      <th>reliable</th>\n",
       "      <th>tense</th>\n",
       "      <th>disorganized</th>\n",
       "      <th>worries</th>\n",
       "      <th>shy</th>\n",
       "      <th>calm</th>\n",
       "      <th>outgoing</th>\n",
       "    </tr>\n",
       "  </thead>\n",
       "  <tbody>\n",
       "    <tr>\n",
       "      <th>talkative</th>\n",
       "      <td>1.000000</td>\n",
       "      <td>0.186023</td>\n",
       "      <td>-0.380186</td>\n",
       "      <td>-0.130651</td>\n",
       "      <td>0.065021</td>\n",
       "      <td>0.280591</td>\n",
       "      <td>-0.048666</td>\n",
       "      <td>-0.153620</td>\n",
       "      <td>-0.060252</td>\n",
       "      <td>-0.311449</td>\n",
       "      <td>0.007887</td>\n",
       "      <td>0.497777</td>\n",
       "    </tr>\n",
       "    <tr>\n",
       "      <th>thorough</th>\n",
       "      <td>0.186023</td>\n",
       "      <td>1.000000</td>\n",
       "      <td>-0.033741</td>\n",
       "      <td>-0.350944</td>\n",
       "      <td>0.070732</td>\n",
       "      <td>0.477091</td>\n",
       "      <td>-0.009801</td>\n",
       "      <td>-0.351918</td>\n",
       "      <td>0.082136</td>\n",
       "      <td>-0.019579</td>\n",
       "      <td>0.026153</td>\n",
       "      <td>0.083799</td>\n",
       "    </tr>\n",
       "    <tr>\n",
       "      <th>reserved</th>\n",
       "      <td>-0.380186</td>\n",
       "      <td>-0.033741</td>\n",
       "      <td>1.000000</td>\n",
       "      <td>0.072739</td>\n",
       "      <td>-0.139408</td>\n",
       "      <td>-0.065324</td>\n",
       "      <td>0.193299</td>\n",
       "      <td>0.002001</td>\n",
       "      <td>0.212861</td>\n",
       "      <td>0.457104</td>\n",
       "      <td>-0.110428</td>\n",
       "      <td>-0.398845</td>\n",
       "    </tr>\n",
       "    <tr>\n",
       "      <th>careless</th>\n",
       "      <td>-0.130651</td>\n",
       "      <td>-0.350944</td>\n",
       "      <td>0.072739</td>\n",
       "      <td>1.000000</td>\n",
       "      <td>-0.131882</td>\n",
       "      <td>-0.303986</td>\n",
       "      <td>0.135208</td>\n",
       "      <td>0.366904</td>\n",
       "      <td>0.036327</td>\n",
       "      <td>0.104819</td>\n",
       "      <td>-0.085645</td>\n",
       "      <td>-0.085179</td>\n",
       "    </tr>\n",
       "    <tr>\n",
       "      <th>relaxed</th>\n",
       "      <td>0.065021</td>\n",
       "      <td>0.070732</td>\n",
       "      <td>-0.139408</td>\n",
       "      <td>-0.131882</td>\n",
       "      <td>1.000000</td>\n",
       "      <td>0.085967</td>\n",
       "      <td>-0.428226</td>\n",
       "      <td>-0.129441</td>\n",
       "      <td>-0.325250</td>\n",
       "      <td>-0.136192</td>\n",
       "      <td>0.434498</td>\n",
       "      <td>0.158375</td>\n",
       "    </tr>\n",
       "    <tr>\n",
       "      <th>reliable</th>\n",
       "      <td>0.280591</td>\n",
       "      <td>0.477091</td>\n",
       "      <td>-0.065324</td>\n",
       "      <td>-0.303986</td>\n",
       "      <td>0.085967</td>\n",
       "      <td>1.000000</td>\n",
       "      <td>-0.060370</td>\n",
       "      <td>-0.345467</td>\n",
       "      <td>0.110279</td>\n",
       "      <td>-0.073455</td>\n",
       "      <td>0.083831</td>\n",
       "      <td>0.116539</td>\n",
       "    </tr>\n",
       "    <tr>\n",
       "      <th>tense</th>\n",
       "      <td>-0.048666</td>\n",
       "      <td>-0.009801</td>\n",
       "      <td>0.193299</td>\n",
       "      <td>0.135208</td>\n",
       "      <td>-0.428226</td>\n",
       "      <td>-0.060370</td>\n",
       "      <td>1.000000</td>\n",
       "      <td>0.096840</td>\n",
       "      <td>0.406315</td>\n",
       "      <td>0.158944</td>\n",
       "      <td>-0.366110</td>\n",
       "      <td>-0.150304</td>\n",
       "    </tr>\n",
       "    <tr>\n",
       "      <th>disorganized</th>\n",
       "      <td>-0.153620</td>\n",
       "      <td>-0.351918</td>\n",
       "      <td>0.002001</td>\n",
       "      <td>0.366904</td>\n",
       "      <td>-0.129441</td>\n",
       "      <td>-0.345467</td>\n",
       "      <td>0.096840</td>\n",
       "      <td>1.000000</td>\n",
       "      <td>-0.011939</td>\n",
       "      <td>0.004620</td>\n",
       "      <td>-0.057438</td>\n",
       "      <td>-0.075729</td>\n",
       "    </tr>\n",
       "    <tr>\n",
       "      <th>worries</th>\n",
       "      <td>-0.060252</td>\n",
       "      <td>0.082136</td>\n",
       "      <td>0.212861</td>\n",
       "      <td>0.036327</td>\n",
       "      <td>-0.325250</td>\n",
       "      <td>0.110279</td>\n",
       "      <td>0.406315</td>\n",
       "      <td>-0.011939</td>\n",
       "      <td>1.000000</td>\n",
       "      <td>0.119657</td>\n",
       "      <td>-0.344254</td>\n",
       "      <td>-0.163326</td>\n",
       "    </tr>\n",
       "    <tr>\n",
       "      <th>shy</th>\n",
       "      <td>-0.311449</td>\n",
       "      <td>-0.019579</td>\n",
       "      <td>0.457104</td>\n",
       "      <td>0.104819</td>\n",
       "      <td>-0.136192</td>\n",
       "      <td>-0.073455</td>\n",
       "      <td>0.158944</td>\n",
       "      <td>0.004620</td>\n",
       "      <td>0.119657</td>\n",
       "      <td>1.000000</td>\n",
       "      <td>-0.151517</td>\n",
       "      <td>-0.319163</td>\n",
       "    </tr>\n",
       "    <tr>\n",
       "      <th>calm</th>\n",
       "      <td>0.007887</td>\n",
       "      <td>0.026153</td>\n",
       "      <td>-0.110428</td>\n",
       "      <td>-0.085645</td>\n",
       "      <td>0.434498</td>\n",
       "      <td>0.083831</td>\n",
       "      <td>-0.366110</td>\n",
       "      <td>-0.057438</td>\n",
       "      <td>-0.344254</td>\n",
       "      <td>-0.151517</td>\n",
       "      <td>1.000000</td>\n",
       "      <td>0.115085</td>\n",
       "    </tr>\n",
       "    <tr>\n",
       "      <th>outgoing</th>\n",
       "      <td>0.497777</td>\n",
       "      <td>0.083799</td>\n",
       "      <td>-0.398845</td>\n",
       "      <td>-0.085179</td>\n",
       "      <td>0.158375</td>\n",
       "      <td>0.116539</td>\n",
       "      <td>-0.150304</td>\n",
       "      <td>-0.075729</td>\n",
       "      <td>-0.163326</td>\n",
       "      <td>-0.319163</td>\n",
       "      <td>0.115085</td>\n",
       "      <td>1.000000</td>\n",
       "    </tr>\n",
       "  </tbody>\n",
       "</table>\n",
       "</div>"
      ],
      "text/plain": [
       "              talkative  thorough  reserved  careless   relaxed  reliable  \\\n",
       "talkative      1.000000  0.186023 -0.380186 -0.130651  0.065021  0.280591   \n",
       "thorough       0.186023  1.000000 -0.033741 -0.350944  0.070732  0.477091   \n",
       "reserved      -0.380186 -0.033741  1.000000  0.072739 -0.139408 -0.065324   \n",
       "careless      -0.130651 -0.350944  0.072739  1.000000 -0.131882 -0.303986   \n",
       "relaxed        0.065021  0.070732 -0.139408 -0.131882  1.000000  0.085967   \n",
       "reliable       0.280591  0.477091 -0.065324 -0.303986  0.085967  1.000000   \n",
       "tense         -0.048666 -0.009801  0.193299  0.135208 -0.428226 -0.060370   \n",
       "disorganized  -0.153620 -0.351918  0.002001  0.366904 -0.129441 -0.345467   \n",
       "worries       -0.060252  0.082136  0.212861  0.036327 -0.325250  0.110279   \n",
       "shy           -0.311449 -0.019579  0.457104  0.104819 -0.136192 -0.073455   \n",
       "calm           0.007887  0.026153 -0.110428 -0.085645  0.434498  0.083831   \n",
       "outgoing       0.497777  0.083799 -0.398845 -0.085179  0.158375  0.116539   \n",
       "\n",
       "                 tense  disorganized   worries       shy      calm  outgoing  \n",
       "talkative    -0.048666     -0.153620 -0.060252 -0.311449  0.007887  0.497777  \n",
       "thorough     -0.009801     -0.351918  0.082136 -0.019579  0.026153  0.083799  \n",
       "reserved      0.193299      0.002001  0.212861  0.457104 -0.110428 -0.398845  \n",
       "careless      0.135208      0.366904  0.036327  0.104819 -0.085645 -0.085179  \n",
       "relaxed      -0.428226     -0.129441 -0.325250 -0.136192  0.434498  0.158375  \n",
       "reliable     -0.060370     -0.345467  0.110279 -0.073455  0.083831  0.116539  \n",
       "tense         1.000000      0.096840  0.406315  0.158944 -0.366110 -0.150304  \n",
       "disorganized  0.096840      1.000000 -0.011939  0.004620 -0.057438 -0.075729  \n",
       "worries       0.406315     -0.011939  1.000000  0.119657 -0.344254 -0.163326  \n",
       "shy           0.158944      0.004620  0.119657  1.000000 -0.151517 -0.319163  \n",
       "calm         -0.366110     -0.057438 -0.344254 -0.151517  1.000000  0.115085  \n",
       "outgoing     -0.150304     -0.075729 -0.163326 -0.319163  0.115085  1.000000  "
      ]
     },
     "execution_count": 6,
     "metadata": {},
     "output_type": "execute_result"
    }
   ],
   "source": [
    "## check correlation\n",
    "data.corr()"
   ]
  },
  {
   "cell_type": "code",
   "execution_count": 7,
   "metadata": {},
   "outputs": [
    {
     "data": {
      "text/plain": [
       "<matplotlib.axes._subplots.AxesSubplot at 0x122da3970>"
      ]
     },
     "execution_count": 7,
     "metadata": {},
     "output_type": "execute_result"
    },
    {
     "data": {
      "image/png": "[encoded data removed]",
      "text/plain": [
       "<Figure size 1080x360 with 2 Axes>"
      ]
     },
     "metadata": {
      "needs_background": "light"
     },
     "output_type": "display_data"
    }
   ],
   "source": [
    "plt.figure(figsize = (15,5))\n",
    "sns.heatmap(data.corr())"
   ]
  },
  {
   "cell_type": "markdown",
   "metadata": {},
   "source": [
    "We do see the high correlations between 'reliable' and 'thorough' , 'shy' and 'reserved' etc.  "
   ]
  },
  {
   "cell_type": "code",
   "execution_count": 8,
   "metadata": {},
   "outputs": [],
   "source": [
    "## scale the values and find out the principal components . \n",
    "import scipy.linalg as la\n",
    "from  sklearn.preprocessing import StandardScaler"
   ]
  },
  {
   "cell_type": "code",
   "execution_count": 9,
   "metadata": {},
   "outputs": [],
   "source": [
    "## Eigen values from the correlation data \n",
    "results = la.eig(data.corr())"
   ]
  },
  {
   "cell_type": "code",
   "execution_count": 10,
   "metadata": {},
   "outputs": [
    {
     "name": "stdout",
     "output_type": "stream",
     "text": [
      "[(2.8919112686815565+0j), (2.024091560104602+0j), (1.6571664622621423+0j)]\n"
     ]
    }
   ],
   "source": [
    "## Eigen values that are > 1 are important\n",
    "print([i for i in results[0] if i > 1])"
   ]
  },
  {
   "cell_type": "code",
   "execution_count": 20,
   "metadata": {},
   "outputs": [
    {
     "data": {
      "text/plain": [
       "(0.5477641075873584+0j)"
      ]
     },
     "execution_count": 20,
     "metadata": {},
     "output_type": "execute_result"
    }
   ],
   "source": [
    "sum(results[0][:3])/12"
   ]
  },
  {
   "cell_type": "markdown",
   "metadata": {},
   "source": [
    "Its seen that the first 3 eigen values cover 54% of the variation in the data.  "
   ]
  },
  {
   "cell_type": "code",
   "execution_count": 22,
   "metadata": {},
   "outputs": [
    {
     "name": "stderr",
     "output_type": "stream",
     "text": [
      "/Users/anushabanninthaya/opt/anaconda3/lib/python3.8/site-packages/numpy/core/_asarray.py:85: ComplexWarning: Casting complex values to real discards the imaginary part\n",
      "  return array(a, dtype, copy=False, order=order)\n"
     ]
    },
    {
     "data": {
      "text/plain": [
       "Text(0.5, 1.0, 'Scree plot')"
      ]
     },
     "execution_count": 22,
     "metadata": {},
     "output_type": "execute_result"
    },
    {
     "data": {
      "image/png": "[encoded data removed]",
      "text/plain": [
       "<Figure size 1080x360 with 1 Axes>"
      ]
     },
     "metadata": {
      "needs_background": "light"
     },
     "output_type": "display_data"
    }
   ],
   "source": [
    "plt.figure(figsize = (15,5))\n",
    "vectors = list(range(1,13))\n",
    "plt.plot(vectors, results[0], '-o')\n",
    "plt.ylabel(\"eigen values\")\n",
    "plt.xlabel(\"Eigen number\")\n",
    "plt.title(\"Scree plot\")"
   ]
  },
  {
   "cell_type": "markdown",
   "metadata": {},
   "source": [
    "As per the scree plot, 4 factors seem appropriate .  "
   ]
  },
  {
   "cell_type": "code",
   "execution_count": 11,
   "metadata": {},
   "outputs": [
    {
     "name": "stdout",
     "output_type": "stream",
     "text": [
      "Variance explained : [2.89480607 2.02611768 1.65882529 0.80180459 0.77226273 0.65775658\n",
      " 0.61640321 0.5929874  0.55644905 0.50265901]\n"
     ]
    }
   ],
   "source": [
    "## Principal Component Analysis \n",
    "from sklearn.decomposition import PCA\n",
    "pca = PCA(n_components=10)\n",
    "## scale the values \n",
    "scaler = StandardScaler()\n",
    "scaled = scaler.fit_transform(data.values)\n",
    "pca.fit(scaled)\n",
    "print(\"Variance explained : {}\".format(pca.explained_variance_))"
   ]
  },
  {
   "cell_type": "code",
   "execution_count": 26,
   "metadata": {},
   "outputs": [
    {
     "data": {
      "image/png": "[encoded data removed]",
      "text/plain": [
       "<Figure size 432x288 with 1 Axes>"
      ]
     },
     "metadata": {
      "needs_background": "light"
     },
     "output_type": "display_data"
    }
   ],
   "source": [
    "plt.plot(np.cumsum(pca.explained_variance_ratio_) , '-o')\n",
    "plt.xlabel('number of components')\n",
    "plt.ylabel('cumulative explained variance');"
   ]
  },
  {
   "cell_type": "code",
   "execution_count": 15,
   "metadata": {},
   "outputs": [],
   "source": [
    "from sklearn.decomposition import FactorAnalysis\n"
   ]
  },
  {
   "cell_type": "code",
   "execution_count": 12,
   "metadata": {},
   "outputs": [],
   "source": [
    "from factor_analyzer import FactorAnalyzer\n",
    "from factor_analyzer.factor_analyzer import calculate_bartlett_sphericity\n",
    "from factor_analyzer.factor_analyzer import calculate_kmo"
   ]
  },
  {
   "cell_type": "code",
   "execution_count": 13,
   "metadata": {},
   "outputs": [
    {
     "name": "stdout",
     "output_type": "stream",
     "text": [
      "2433.318450945455 0.0\n"
     ]
    }
   ],
   "source": [
    "## check for  factor analysis test , p-value should be 0 (statistically sig.)\n",
    "# indicating that the observed correlation matrix is not an identity matrix.\n",
    "chi_square_value,p_value=calculate_bartlett_sphericity(scaled)\n",
    "print(chi_square_value, p_value)"
   ]
  },
  {
   "cell_type": "code",
   "execution_count": 33,
   "metadata": {},
   "outputs": [
    {
     "name": "stdout",
     "output_type": "stream",
     "text": [
      "0.7543013807821201\n"
     ]
    }
   ],
   "source": [
    "#KMO\n",
    "#Value should be 0.6<\n",
    "kmo_all,kmo_model=calculate_kmo(scaled)\n",
    "print(kmo_model)"
   ]
  },
  {
   "cell_type": "code",
   "execution_count": 34,
   "metadata": {},
   "outputs": [
    {
     "data": {
      "text/plain": [
       "FactorAnalyzer(n_factors=4, rotation=None, rotation_kwargs={})"
      ]
     },
     "execution_count": 34,
     "metadata": {},
     "output_type": "execute_result"
    }
   ],
   "source": [
    "#EXPLORATORY FACTOR ANALYSIS\n",
    "fa = FactorAnalyzer(4, rotation=None) ## 4 Factors \n",
    "fa.fit(scaled)"
   ]
  },
  {
   "cell_type": "code",
   "execution_count": 35,
   "metadata": {},
   "outputs": [
    {
     "name": "stdout",
     "output_type": "stream",
     "text": [
      "(array([2.89191127, 2.02409156, 1.65716646, 0.80100278, 0.77149046,\n",
      "       0.65709883, 0.61578681, 0.59239441, 0.5558926 , 0.50215635,\n",
      "       0.49762287, 0.4333856 ]), array([ 2.39223863,  1.44867311,  1.18932663,  0.39587871,  0.14752999,\n",
      "        0.06842179,  0.02383651,  0.00894101, -0.0126009 , -0.02896151,\n",
      "       -0.09216206, -0.11500454]))\n"
     ]
    }
   ],
   "source": [
    "#GET EIGENVALUES\n",
    "print(fa.get_eigenvalues())\n",
    "ev = fa.get_eigenvalues()[0]"
   ]
  },
  {
   "cell_type": "code",
   "execution_count": 36,
   "metadata": {},
   "outputs": [
    {
     "data": {
      "image/png": "[encoded data removed]",
      "text/plain": [
       "<Figure size 432x288 with 1 Axes>"
      ]
     },
     "metadata": {
      "needs_background": "light"
     },
     "output_type": "display_data"
    }
   ],
   "source": [
    "# SCREEPLOT (need pyplot)\n",
    "plt.scatter(range(1,scaled.shape[1]+1),ev)\n",
    "plt.plot(range(1,scaled.shape[1]+1),ev)\n",
    "plt.title('Scree Plot')\n",
    "plt.xlabel('Factors')\n",
    "plt.ylabel('Eigenvalue')\n",
    "plt.grid()\n",
    "plt.show()"
   ]
  },
  {
   "cell_type": "code",
   "execution_count": 18,
   "metadata": {},
   "outputs": [
    {
     "data": {
      "text/plain": [
       "FactorAnalyzer(rotation='varimax', rotation_kwargs={})"
      ]
     },
     "execution_count": 18,
     "metadata": {},
     "output_type": "execute_result"
    }
   ],
   "source": [
    "# Create factor analysis object and perform factor analysis\n",
    "fa = FactorAnalyzer(3, rotation=\"varimax\", method='minres', use_smc=True)\n",
    "fa.fit(scaled)"
   ]
  },
  {
   "cell_type": "code",
   "execution_count": 19,
   "metadata": {},
   "outputs": [
    {
     "name": "stdout",
     "output_type": "stream",
     "text": [
      "Factor Loadings \n",
      "              Factor_1  Factor_2  Factor_3\n",
      "talkative     0.661461  0.056140  0.249090\n",
      "thorough      0.051161  0.041487  0.672584\n",
      "reserved     -0.653848  0.169057  0.019260\n",
      "careless     -0.065606  0.125225 -0.514392\n",
      "relaxed       0.081618 -0.634712  0.137340\n",
      "reliable      0.131194  0.021868  0.654488\n",
      "tense        -0.115643  0.646043 -0.068487\n",
      "disorganized -0.009715  0.077583 -0.566840\n",
      "worries      -0.153527  0.567183  0.118925\n",
      "shy          -0.535714  0.154023 -0.010103\n",
      "calm          0.052132 -0.601360  0.069694\n",
      "outgoing      0.631171 -0.119647  0.087707\n"
     ]
    }
   ],
   "source": [
    "loadings = pd.DataFrame(fa.loadings_, columns=['Factor_1', 'Factor_2', 'Factor_3'], index= data.columns)\n",
    "print('Factor Loadings \\n%s' %loadings)"
   ]
  },
  {
   "cell_type": "code",
   "execution_count": 20,
   "metadata": {},
   "outputs": [
    {
     "data": {
      "text/html": [
       "<div>\n",
       "<style scoped>\n",
       "    .dataframe tbody tr th:only-of-type {\n",
       "        vertical-align: middle;\n",
       "    }\n",
       "\n",
       "    .dataframe tbody tr th {\n",
       "        vertical-align: top;\n",
       "    }\n",
       "\n",
       "    .dataframe thead th {\n",
       "        text-align: right;\n",
       "    }\n",
       "</style>\n",
       "<table border=\"1\" class=\"dataframe\">\n",
       "  <thead>\n",
       "    <tr style=\"text-align: right;\">\n",
       "      <th></th>\n",
       "      <th>Factor_1</th>\n",
       "      <th>Factor_2</th>\n",
       "      <th>Factor_3</th>\n",
       "    </tr>\n",
       "  </thead>\n",
       "  <tbody>\n",
       "    <tr>\n",
       "      <th>talkative</th>\n",
       "      <td>0.661461</td>\n",
       "      <td>NaN</td>\n",
       "      <td>NaN</td>\n",
       "    </tr>\n",
       "    <tr>\n",
       "      <th>thorough</th>\n",
       "      <td>NaN</td>\n",
       "      <td>NaN</td>\n",
       "      <td>0.672584</td>\n",
       "    </tr>\n",
       "    <tr>\n",
       "      <th>reserved</th>\n",
       "      <td>NaN</td>\n",
       "      <td>NaN</td>\n",
       "      <td>NaN</td>\n",
       "    </tr>\n",
       "    <tr>\n",
       "      <th>careless</th>\n",
       "      <td>NaN</td>\n",
       "      <td>NaN</td>\n",
       "      <td>NaN</td>\n",
       "    </tr>\n",
       "    <tr>\n",
       "      <th>relaxed</th>\n",
       "      <td>NaN</td>\n",
       "      <td>NaN</td>\n",
       "      <td>NaN</td>\n",
       "    </tr>\n",
       "    <tr>\n",
       "      <th>reliable</th>\n",
       "      <td>NaN</td>\n",
       "      <td>NaN</td>\n",
       "      <td>0.654488</td>\n",
       "    </tr>\n",
       "    <tr>\n",
       "      <th>tense</th>\n",
       "      <td>NaN</td>\n",
       "      <td>0.646043</td>\n",
       "      <td>NaN</td>\n",
       "    </tr>\n",
       "    <tr>\n",
       "      <th>disorganized</th>\n",
       "      <td>NaN</td>\n",
       "      <td>NaN</td>\n",
       "      <td>NaN</td>\n",
       "    </tr>\n",
       "    <tr>\n",
       "      <th>worries</th>\n",
       "      <td>NaN</td>\n",
       "      <td>0.567183</td>\n",
       "      <td>NaN</td>\n",
       "    </tr>\n",
       "    <tr>\n",
       "      <th>shy</th>\n",
       "      <td>NaN</td>\n",
       "      <td>NaN</td>\n",
       "      <td>NaN</td>\n",
       "    </tr>\n",
       "    <tr>\n",
       "      <th>calm</th>\n",
       "      <td>NaN</td>\n",
       "      <td>NaN</td>\n",
       "      <td>NaN</td>\n",
       "    </tr>\n",
       "    <tr>\n",
       "      <th>outgoing</th>\n",
       "      <td>0.631171</td>\n",
       "      <td>NaN</td>\n",
       "      <td>NaN</td>\n",
       "    </tr>\n",
       "  </tbody>\n",
       "</table>\n",
       "</div>"
      ],
      "text/plain": [
       "              Factor_1  Factor_2  Factor_3\n",
       "talkative     0.661461       NaN       NaN\n",
       "thorough           NaN       NaN  0.672584\n",
       "reserved           NaN       NaN       NaN\n",
       "careless           NaN       NaN       NaN\n",
       "relaxed            NaN       NaN       NaN\n",
       "reliable           NaN       NaN  0.654488\n",
       "tense              NaN  0.646043       NaN\n",
       "disorganized       NaN       NaN       NaN\n",
       "worries            NaN  0.567183       NaN\n",
       "shy                NaN       NaN       NaN\n",
       "calm               NaN       NaN       NaN\n",
       "outgoing      0.631171       NaN       NaN"
      ]
     },
     "execution_count": 20,
     "metadata": {},
     "output_type": "execute_result"
    }
   ],
   "source": [
    "## Which variables have high loadings ??\n",
    "loadings[loadings > 0.4]"
   ]
  },
  {
   "cell_type": "markdown",
   "metadata": {},
   "source": [
    "Factor 1 stands for talkative/outgoing.  \n",
    "Factor 2 stands for tense, worries.  \n",
    "Factor 3 stands for thorough, reliable.  "
   ]
  },
  {
   "cell_type": "code",
   "execution_count": 21,
   "metadata": {},
   "outputs": [],
   "source": [
    "## Factor Score for each user \n",
    "scores = fa.transform(scaled)"
   ]
  },
  {
   "cell_type": "code",
   "execution_count": 22,
   "metadata": {},
   "outputs": [],
   "source": [
    "data_scores = pd.DataFrame(scores, columns=['Factor_1', 'Factor_2', 'Factor_3'])"
   ]
  },
  {
   "cell_type": "code",
   "execution_count": 23,
   "metadata": {},
   "outputs": [
    {
     "data": {
      "text/plain": [
       "(1000, 3)"
      ]
     },
     "execution_count": 23,
     "metadata": {},
     "output_type": "execute_result"
    }
   ],
   "source": [
    "data_scores.shape"
   ]
  },
  {
   "cell_type": "code",
   "execution_count": 27,
   "metadata": {},
   "outputs": [],
   "source": [
    "data_scores.columns = ['Extrovert', 'Anxious', 'Trustworthy']"
   ]
  },
  {
   "cell_type": "code",
   "execution_count": 28,
   "metadata": {},
   "outputs": [
    {
     "data": {
      "text/html": [
       "<div>\n",
       "<style scoped>\n",
       "    .dataframe tbody tr th:only-of-type {\n",
       "        vertical-align: middle;\n",
       "    }\n",
       "\n",
       "    .dataframe tbody tr th {\n",
       "        vertical-align: top;\n",
       "    }\n",
       "\n",
       "    .dataframe thead th {\n",
       "        text-align: right;\n",
       "    }\n",
       "</style>\n",
       "<table border=\"1\" class=\"dataframe\">\n",
       "  <thead>\n",
       "    <tr style=\"text-align: right;\">\n",
       "      <th></th>\n",
       "      <th>Extrovert</th>\n",
       "      <th>Anxious</th>\n",
       "      <th>Trustworthy</th>\n",
       "    </tr>\n",
       "  </thead>\n",
       "  <tbody>\n",
       "    <tr>\n",
       "      <th>0</th>\n",
       "      <td>0.106773</td>\n",
       "      <td>-0.235488</td>\n",
       "      <td>0.608101</td>\n",
       "    </tr>\n",
       "    <tr>\n",
       "      <th>1</th>\n",
       "      <td>-0.523816</td>\n",
       "      <td>-0.127487</td>\n",
       "      <td>1.218327</td>\n",
       "    </tr>\n",
       "    <tr>\n",
       "      <th>2</th>\n",
       "      <td>-1.229871</td>\n",
       "      <td>0.650957</td>\n",
       "      <td>0.452784</td>\n",
       "    </tr>\n",
       "    <tr>\n",
       "      <th>3</th>\n",
       "      <td>-0.238287</td>\n",
       "      <td>-0.880660</td>\n",
       "      <td>1.063353</td>\n",
       "    </tr>\n",
       "    <tr>\n",
       "      <th>4</th>\n",
       "      <td>1.087582</td>\n",
       "      <td>-0.940862</td>\n",
       "      <td>-0.803197</td>\n",
       "    </tr>\n",
       "  </tbody>\n",
       "</table>\n",
       "</div>"
      ],
      "text/plain": [
       "   Extrovert   Anxious  Trustworthy\n",
       "0   0.106773 -0.235488     0.608101\n",
       "1  -0.523816 -0.127487     1.218327\n",
       "2  -1.229871  0.650957     0.452784\n",
       "3  -0.238287 -0.880660     1.063353\n",
       "4   1.087582 -0.940862    -0.803197"
      ]
     },
     "execution_count": 28,
     "metadata": {},
     "output_type": "execute_result"
    }
   ],
   "source": [
    "data_scores.head()"
   ]
  },
  {
   "cell_type": "code",
   "execution_count": null,
   "metadata": {},
   "outputs": [],
   "source": []
  }
 ],
 "metadata": {
  "kernelspec": {
   "display_name": "Python 3",
   "language": "python",
   "name": "python3"
  },
  "language_info": {
   "codemirror_mode": {
    "name": "ipython",
    "version": 3
   },
   "file_extension": ".py",
   "mimetype": "text/x-python",
   "name": "python",
   "nbconvert_exporter": "python",
   "pygments_lexer": "ipython3",
   "version": "3.8.3"
  }
 },
 "nbformat": 4,
 "nbformat_minor": 4
}
