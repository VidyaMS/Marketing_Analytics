{
 "cells": [
  {
   "cell_type": "markdown",
   "metadata": {},
   "source": [
    "Multi transport mode choice modelling.  "
   ]
  },
  {
   "cell_type": "code",
   "execution_count": 1,
   "metadata": {},
   "outputs": [],
   "source": [
    "import pandas as pd\n",
    "import numpy as np\n",
    "import matplotlib.pyplot as plt\n",
    "import seaborn as sns\n",
    "%matplotlib inline"
   ]
  },
  {
   "cell_type": "code",
   "execution_count": 2,
   "metadata": {},
   "outputs": [],
   "source": [
    "import pylogit as pl"
   ]
  },
  {
   "cell_type": "code",
   "execution_count": 3,
   "metadata": {},
   "outputs": [],
   "source": [
    "from collections import OrderedDict"
   ]
  },
  {
   "cell_type": "code",
   "execution_count": 4,
   "metadata": {},
   "outputs": [],
   "source": [
    "data = pd.read_csv(\"transportation_data.csv\")"
   ]
  },
  {
   "cell_type": "code",
   "execution_count": 5,
   "metadata": {},
   "outputs": [
    {
     "data": {
      "text/html": [
       "<div>\n",
       "<style scoped>\n",
       "    .dataframe tbody tr th:only-of-type {\n",
       "        vertical-align: middle;\n",
       "    }\n",
       "\n",
       "    .dataframe tbody tr th {\n",
       "        vertical-align: top;\n",
       "    }\n",
       "\n",
       "    .dataframe thead th {\n",
       "        text-align: right;\n",
       "    }\n",
       "</style>\n",
       "<table border=\"1\" class=\"dataframe\">\n",
       "  <thead>\n",
       "    <tr style=\"text-align: right;\">\n",
       "      <th></th>\n",
       "      <th>TRAVELER</th>\n",
       "      <th>MODE</th>\n",
       "      <th>TTME</th>\n",
       "      <th>INVC</th>\n",
       "      <th>INVT</th>\n",
       "      <th>HINC</th>\n",
       "    </tr>\n",
       "  </thead>\n",
       "  <tbody>\n",
       "    <tr>\n",
       "      <th>0</th>\n",
       "      <td>1</td>\n",
       "      <td>0</td>\n",
       "      <td>69</td>\n",
       "      <td>59</td>\n",
       "      <td>100</td>\n",
       "      <td>35</td>\n",
       "    </tr>\n",
       "    <tr>\n",
       "      <th>1</th>\n",
       "      <td>1</td>\n",
       "      <td>0</td>\n",
       "      <td>34</td>\n",
       "      <td>31</td>\n",
       "      <td>372</td>\n",
       "      <td>35</td>\n",
       "    </tr>\n",
       "    <tr>\n",
       "      <th>2</th>\n",
       "      <td>1</td>\n",
       "      <td>0</td>\n",
       "      <td>35</td>\n",
       "      <td>25</td>\n",
       "      <td>417</td>\n",
       "      <td>35</td>\n",
       "    </tr>\n",
       "    <tr>\n",
       "      <th>3</th>\n",
       "      <td>1</td>\n",
       "      <td>1</td>\n",
       "      <td>0</td>\n",
       "      <td>10</td>\n",
       "      <td>180</td>\n",
       "      <td>35</td>\n",
       "    </tr>\n",
       "    <tr>\n",
       "      <th>4</th>\n",
       "      <td>2</td>\n",
       "      <td>0</td>\n",
       "      <td>64</td>\n",
       "      <td>58</td>\n",
       "      <td>68</td>\n",
       "      <td>30</td>\n",
       "    </tr>\n",
       "  </tbody>\n",
       "</table>\n",
       "</div>"
      ],
      "text/plain": [
       "   TRAVELER  MODE  TTME  INVC  INVT  HINC\n",
       "0         1     0    69    59   100    35\n",
       "1         1     0    34    31   372    35\n",
       "2         1     0    35    25   417    35\n",
       "3         1     1     0    10   180    35\n",
       "4         2     0    64    58    68    30"
      ]
     },
     "execution_count": 5,
     "metadata": {},
     "output_type": "execute_result"
    }
   ],
   "source": [
    "data.head()"
   ]
  },
  {
   "cell_type": "code",
   "execution_count": 6,
   "metadata": {},
   "outputs": [
    {
     "name": "stdout",
     "output_type": "stream",
     "text": [
      "<class 'pandas.core.frame.DataFrame'>\n",
      "RangeIndex: 840 entries, 0 to 839\n",
      "Data columns (total 6 columns):\n",
      " #   Column    Non-Null Count  Dtype\n",
      "---  ------    --------------  -----\n",
      " 0   TRAVELER  840 non-null    int64\n",
      " 1   MODE      840 non-null    int64\n",
      " 2   TTME      840 non-null    int64\n",
      " 3   INVC      840 non-null    int64\n",
      " 4   INVT      840 non-null    int64\n",
      " 5   HINC      840 non-null    int64\n",
      "dtypes: int64(6)\n",
      "memory usage: 39.5 KB\n"
     ]
    }
   ],
   "source": [
    "data.info()"
   ]
  },
  {
   "cell_type": "markdown",
   "metadata": {},
   "source": [
    "Each Traveller is given a choice of 4 modes of transportation.  \n",
    "1- Plane , 2- Train , 3 - Bus , 4 - Car.  "
   ]
  },
  {
   "cell_type": "code",
   "execution_count": 7,
   "metadata": {},
   "outputs": [],
   "source": [
    "mode_id = (1,2,3,4)\n",
    "repeat = len(data['MODE'])/4\n",
    "mode_id = mode_id*int(repeat)"
   ]
  },
  {
   "cell_type": "code",
   "execution_count": 8,
   "metadata": {},
   "outputs": [],
   "source": [
    "data['MODE_ID'] = mode_id"
   ]
  },
  {
   "cell_type": "code",
   "execution_count": 9,
   "metadata": {},
   "outputs": [
    {
     "data": {
      "text/html": [
       "<div>\n",
       "<style scoped>\n",
       "    .dataframe tbody tr th:only-of-type {\n",
       "        vertical-align: middle;\n",
       "    }\n",
       "\n",
       "    .dataframe tbody tr th {\n",
       "        vertical-align: top;\n",
       "    }\n",
       "\n",
       "    .dataframe thead th {\n",
       "        text-align: right;\n",
       "    }\n",
       "</style>\n",
       "<table border=\"1\" class=\"dataframe\">\n",
       "  <thead>\n",
       "    <tr style=\"text-align: right;\">\n",
       "      <th></th>\n",
       "      <th>TRAVELER</th>\n",
       "      <th>MODE</th>\n",
       "      <th>TTME</th>\n",
       "      <th>INVC</th>\n",
       "      <th>INVT</th>\n",
       "      <th>HINC</th>\n",
       "      <th>MODE_ID</th>\n",
       "    </tr>\n",
       "  </thead>\n",
       "  <tbody>\n",
       "    <tr>\n",
       "      <th>0</th>\n",
       "      <td>1</td>\n",
       "      <td>0</td>\n",
       "      <td>69</td>\n",
       "      <td>59</td>\n",
       "      <td>100</td>\n",
       "      <td>35</td>\n",
       "      <td>1</td>\n",
       "    </tr>\n",
       "    <tr>\n",
       "      <th>1</th>\n",
       "      <td>1</td>\n",
       "      <td>0</td>\n",
       "      <td>34</td>\n",
       "      <td>31</td>\n",
       "      <td>372</td>\n",
       "      <td>35</td>\n",
       "      <td>2</td>\n",
       "    </tr>\n",
       "    <tr>\n",
       "      <th>2</th>\n",
       "      <td>1</td>\n",
       "      <td>0</td>\n",
       "      <td>35</td>\n",
       "      <td>25</td>\n",
       "      <td>417</td>\n",
       "      <td>35</td>\n",
       "      <td>3</td>\n",
       "    </tr>\n",
       "    <tr>\n",
       "      <th>3</th>\n",
       "      <td>1</td>\n",
       "      <td>1</td>\n",
       "      <td>0</td>\n",
       "      <td>10</td>\n",
       "      <td>180</td>\n",
       "      <td>35</td>\n",
       "      <td>4</td>\n",
       "    </tr>\n",
       "    <tr>\n",
       "      <th>4</th>\n",
       "      <td>2</td>\n",
       "      <td>0</td>\n",
       "      <td>64</td>\n",
       "      <td>58</td>\n",
       "      <td>68</td>\n",
       "      <td>30</td>\n",
       "      <td>1</td>\n",
       "    </tr>\n",
       "    <tr>\n",
       "      <th>5</th>\n",
       "      <td>2</td>\n",
       "      <td>0</td>\n",
       "      <td>44</td>\n",
       "      <td>31</td>\n",
       "      <td>354</td>\n",
       "      <td>30</td>\n",
       "      <td>2</td>\n",
       "    </tr>\n",
       "    <tr>\n",
       "      <th>6</th>\n",
       "      <td>2</td>\n",
       "      <td>0</td>\n",
       "      <td>53</td>\n",
       "      <td>25</td>\n",
       "      <td>399</td>\n",
       "      <td>30</td>\n",
       "      <td>3</td>\n",
       "    </tr>\n",
       "    <tr>\n",
       "      <th>7</th>\n",
       "      <td>2</td>\n",
       "      <td>1</td>\n",
       "      <td>0</td>\n",
       "      <td>11</td>\n",
       "      <td>255</td>\n",
       "      <td>30</td>\n",
       "      <td>4</td>\n",
       "    </tr>\n",
       "    <tr>\n",
       "      <th>8</th>\n",
       "      <td>3</td>\n",
       "      <td>0</td>\n",
       "      <td>69</td>\n",
       "      <td>115</td>\n",
       "      <td>125</td>\n",
       "      <td>40</td>\n",
       "      <td>1</td>\n",
       "    </tr>\n",
       "    <tr>\n",
       "      <th>9</th>\n",
       "      <td>3</td>\n",
       "      <td>0</td>\n",
       "      <td>34</td>\n",
       "      <td>98</td>\n",
       "      <td>892</td>\n",
       "      <td>40</td>\n",
       "      <td>2</td>\n",
       "    </tr>\n",
       "    <tr>\n",
       "      <th>10</th>\n",
       "      <td>3</td>\n",
       "      <td>0</td>\n",
       "      <td>35</td>\n",
       "      <td>53</td>\n",
       "      <td>882</td>\n",
       "      <td>40</td>\n",
       "      <td>3</td>\n",
       "    </tr>\n",
       "    <tr>\n",
       "      <th>11</th>\n",
       "      <td>3</td>\n",
       "      <td>1</td>\n",
       "      <td>0</td>\n",
       "      <td>23</td>\n",
       "      <td>720</td>\n",
       "      <td>40</td>\n",
       "      <td>4</td>\n",
       "    </tr>\n",
       "  </tbody>\n",
       "</table>\n",
       "</div>"
      ],
      "text/plain": [
       "    TRAVELER  MODE  TTME  INVC  INVT  HINC  MODE_ID\n",
       "0          1     0    69    59   100    35        1\n",
       "1          1     0    34    31   372    35        2\n",
       "2          1     0    35    25   417    35        3\n",
       "3          1     1     0    10   180    35        4\n",
       "4          2     0    64    58    68    30        1\n",
       "5          2     0    44    31   354    30        2\n",
       "6          2     0    53    25   399    30        3\n",
       "7          2     1     0    11   255    30        4\n",
       "8          3     0    69   115   125    40        1\n",
       "9          3     0    34    98   892    40        2\n",
       "10         3     0    35    53   882    40        3\n",
       "11         3     1     0    23   720    40        4"
      ]
     },
     "execution_count": 9,
     "metadata": {},
     "output_type": "execute_result"
    }
   ],
   "source": [
    "data.head(12)"
   ]
  },
  {
   "cell_type": "code",
   "execution_count": 10,
   "metadata": {},
   "outputs": [],
   "source": [
    "data1 = data.copy()\n",
    "variable = ['TTME', 'INVC', 'INVT']\n",
    "basic_specification = OrderedDict()\n",
    "basic_names = OrderedDict()\n"
   ]
  },
  {
   "cell_type": "code",
   "execution_count": 11,
   "metadata": {},
   "outputs": [],
   "source": [
    "basic_specification['intercept'] = [2,3,4]\n",
    "basic_names['intercept'] = ['train:intercept', 'bus:intercept', 'car:intercept']\n",
    "##\n",
    "for col in variable:\n",
    "    basic_specification[col] = [[1,2,3,4]]\n",
    "    basic_names[col] = [col]\n",
    "    "
   ]
  },
  {
   "cell_type": "code",
   "execution_count": 12,
   "metadata": {},
   "outputs": [
    {
     "data": {
      "text/plain": [
       "OrderedDict([('intercept',\n",
       "              ['train:intercept', 'bus:intercept', 'car:intercept']),\n",
       "             ('TTME', ['TTME']),\n",
       "             ('INVC', ['INVC']),\n",
       "             ('INVT', ['INVT'])])"
      ]
     },
     "execution_count": 12,
     "metadata": {},
     "output_type": "execute_result"
    }
   ],
   "source": [
    "basic_names"
   ]
  },
  {
   "cell_type": "code",
   "execution_count": 13,
   "metadata": {},
   "outputs": [
    {
     "data": {
      "text/plain": [
       "OrderedDict([('intercept', [2, 3, 4]),\n",
       "             ('TTME', [[1, 2, 3, 4]]),\n",
       "             ('INVC', [[1, 2, 3, 4]]),\n",
       "             ('INVT', [[1, 2, 3, 4]])])"
      ]
     },
     "execution_count": 13,
     "metadata": {},
     "output_type": "execute_result"
    }
   ],
   "source": [
    "basic_specification"
   ]
  },
  {
   "cell_type": "code",
   "execution_count": 14,
   "metadata": {},
   "outputs": [],
   "source": [
    "model1 = pl.create_choice_model(data = data1,\n",
    "                               alt_id_col = 'MODE_ID',\n",
    "                               obs_id_col = 'TRAVELER',\n",
    "                               choice_col = 'MODE',\n",
    "                               specification = basic_specification,\n",
    "                               model_type = 'MNL',\n",
    "                               names = basic_names)"
   ]
  },
  {
   "cell_type": "code",
   "execution_count": 15,
   "metadata": {},
   "outputs": [
    {
     "name": "stdout",
     "output_type": "stream",
     "text": [
      "Log-likelihood at zero: -291.1218\n",
      "Initial Log-likelihood: -291.1218\n",
      "Estimation Time for Point Estimation: 0.04 seconds.\n",
      "Final log-likelihood: -192.8885\n"
     ]
    },
    {
     "name": "stderr",
     "output_type": "stream",
     "text": [
      "/Users/anushabanninthaya/opt/anaconda3/lib/python3.8/site-packages/scipy/optimize/_minimize.py:522: RuntimeWarning: Method BFGS does not use Hessian information (hess).\n",
      "  warn('Method %s does not use Hessian information (hess).' % method,\n"
     ]
    },
    {
     "data": {
      "text/html": [
       "<table class=\"simpletable\">\n",
       "<caption>Multinomial Logit Model Regression Results</caption>\n",
       "<tr>\n",
       "  <th>Dep. Variable:</th>          <td>MODE</td>           <th>  No. Observations:  </th>    <td>210</td>  \n",
       "</tr>\n",
       "<tr>\n",
       "  <th>Model:</th>         <td>Multinomial Logit Model</td> <th>  Df Residuals:      </th>    <td>204</td>  \n",
       "</tr>\n",
       "<tr>\n",
       "  <th>Method:</th>                  <td>MLE</td>           <th>  Df Model:          </th>     <td>6</td>   \n",
       "</tr>\n",
       "<tr>\n",
       "  <th>Date:</th>             <td>Fri, 01 Jan 2021</td>     <th>  Pseudo R-squ.:     </th>   <td>0.337</td> \n",
       "</tr>\n",
       "<tr>\n",
       "  <th>Time:</th>                 <td>11:11:59</td>         <th>  Pseudo R-bar-squ.: </th>   <td>0.317</td> \n",
       "</tr>\n",
       "<tr>\n",
       "  <th>AIC:</th>                   <td>397.777</td>         <th>  Log-Likelihood:    </th> <td>-192.889</td>\n",
       "</tr>\n",
       "<tr>\n",
       "  <th>BIC:</th>                   <td>417.860</td>         <th>  LL-Null:           </th> <td>-291.122</td>\n",
       "</tr>\n",
       "</table>\n",
       "<table class=\"simpletable\">\n",
       "<tr>\n",
       "         <td></td>            <th>coef</th>     <th>std err</th>      <th>z</th>      <th>P>|z|</th>  <th>[0.025</th>    <th>0.975]</th>  \n",
       "</tr>\n",
       "<tr>\n",
       "  <th>train:intercept</th> <td>   -0.7867</td> <td>    0.603</td> <td>   -1.305</td> <td> 0.192</td> <td>   -1.968</td> <td>    0.394</td>\n",
       "</tr>\n",
       "<tr>\n",
       "  <th>bus:intercept</th>   <td>   -1.4336</td> <td>    0.681</td> <td>   -2.106</td> <td> 0.035</td> <td>   -2.768</td> <td>   -0.099</td>\n",
       "</tr>\n",
       "<tr>\n",
       "  <th>car:intercept</th>   <td>   -4.7399</td> <td>    0.868</td> <td>   -5.464</td> <td> 0.000</td> <td>   -6.440</td> <td>   -3.040</td>\n",
       "</tr>\n",
       "<tr>\n",
       "  <th>TTME</th>            <td>   -0.0969</td> <td>    0.010</td> <td>   -9.368</td> <td> 0.000</td> <td>   -0.117</td> <td>   -0.077</td>\n",
       "</tr>\n",
       "<tr>\n",
       "  <th>INVC</th>            <td>   -0.0139</td> <td>    0.007</td> <td>   -2.092</td> <td> 0.036</td> <td>   -0.027</td> <td>   -0.001</td>\n",
       "</tr>\n",
       "<tr>\n",
       "  <th>INVT</th>            <td>   -0.0040</td> <td>    0.001</td> <td>   -4.704</td> <td> 0.000</td> <td>   -0.006</td> <td>   -0.002</td>\n",
       "</tr>\n",
       "</table>"
      ],
      "text/plain": [
       "<class 'statsmodels.iolib.summary.Summary'>\n",
       "\"\"\"\n",
       "                     Multinomial Logit Model Regression Results                    \n",
       "===================================================================================\n",
       "Dep. Variable:                        MODE   No. Observations:                  210\n",
       "Model:             Multinomial Logit Model   Df Residuals:                      204\n",
       "Method:                                MLE   Df Model:                            6\n",
       "Date:                     Fri, 01 Jan 2021   Pseudo R-squ.:                   0.337\n",
       "Time:                             11:11:59   Pseudo R-bar-squ.:               0.317\n",
       "AIC:                               397.777   Log-Likelihood:               -192.889\n",
       "BIC:                               417.860   LL-Null:                      -291.122\n",
       "===================================================================================\n",
       "                      coef    std err          z      P>|z|      [0.025      0.975]\n",
       "-----------------------------------------------------------------------------------\n",
       "train:intercept    -0.7867      0.603     -1.305      0.192      -1.968       0.394\n",
       "bus:intercept      -1.4336      0.681     -2.106      0.035      -2.768      -0.099\n",
       "car:intercept      -4.7399      0.868     -5.464      0.000      -6.440      -3.040\n",
       "TTME               -0.0969      0.010     -9.368      0.000      -0.117      -0.077\n",
       "INVC               -0.0139      0.007     -2.092      0.036      -0.027      -0.001\n",
       "INVT               -0.0040      0.001     -4.704      0.000      -0.006      -0.002\n",
       "===================================================================================\n",
       "\"\"\""
      ]
     },
     "execution_count": 15,
     "metadata": {},
     "output_type": "execute_result"
    }
   ],
   "source": [
    "model1.fit_mle(np.zeros(6))\n",
    "model1.get_statsmodels_summary()"
   ]
  },
  {
   "cell_type": "markdown",
   "metadata": {},
   "source": [
    "The P value indicates that the variables 'intercept for Car' , TTME , INVT are statistically significant."
   ]
  },
  {
   "cell_type": "code",
   "execution_count": 16,
   "metadata": {},
   "outputs": [
    {
     "data": {
      "text/html": [
       "<div>\n",
       "<style scoped>\n",
       "    .dataframe tbody tr th:only-of-type {\n",
       "        vertical-align: middle;\n",
       "    }\n",
       "\n",
       "    .dataframe tbody tr th {\n",
       "        vertical-align: top;\n",
       "    }\n",
       "\n",
       "    .dataframe thead th {\n",
       "        text-align: right;\n",
       "    }\n",
       "</style>\n",
       "<table border=\"1\" class=\"dataframe\">\n",
       "  <thead>\n",
       "    <tr style=\"text-align: right;\">\n",
       "      <th></th>\n",
       "      <th>TRAVELER</th>\n",
       "      <th>MODE</th>\n",
       "      <th>TTME</th>\n",
       "      <th>INVC</th>\n",
       "      <th>INVT</th>\n",
       "      <th>HINC</th>\n",
       "      <th>MODE_ID</th>\n",
       "      <th>intercept</th>\n",
       "    </tr>\n",
       "  </thead>\n",
       "  <tbody>\n",
       "    <tr>\n",
       "      <th>0</th>\n",
       "      <td>1</td>\n",
       "      <td>0</td>\n",
       "      <td>69</td>\n",
       "      <td>59</td>\n",
       "      <td>100</td>\n",
       "      <td>35</td>\n",
       "      <td>1</td>\n",
       "      <td>1.0</td>\n",
       "    </tr>\n",
       "    <tr>\n",
       "      <th>1</th>\n",
       "      <td>1</td>\n",
       "      <td>0</td>\n",
       "      <td>34</td>\n",
       "      <td>31</td>\n",
       "      <td>372</td>\n",
       "      <td>35</td>\n",
       "      <td>2</td>\n",
       "      <td>1.0</td>\n",
       "    </tr>\n",
       "    <tr>\n",
       "      <th>2</th>\n",
       "      <td>1</td>\n",
       "      <td>0</td>\n",
       "      <td>35</td>\n",
       "      <td>25</td>\n",
       "      <td>417</td>\n",
       "      <td>35</td>\n",
       "      <td>3</td>\n",
       "      <td>1.0</td>\n",
       "    </tr>\n",
       "    <tr>\n",
       "      <th>3</th>\n",
       "      <td>1</td>\n",
       "      <td>1</td>\n",
       "      <td>0</td>\n",
       "      <td>10</td>\n",
       "      <td>180</td>\n",
       "      <td>35</td>\n",
       "      <td>4</td>\n",
       "      <td>1.0</td>\n",
       "    </tr>\n",
       "    <tr>\n",
       "      <th>4</th>\n",
       "      <td>2</td>\n",
       "      <td>0</td>\n",
       "      <td>64</td>\n",
       "      <td>58</td>\n",
       "      <td>68</td>\n",
       "      <td>30</td>\n",
       "      <td>1</td>\n",
       "      <td>1.0</td>\n",
       "    </tr>\n",
       "  </tbody>\n",
       "</table>\n",
       "</div>"
      ],
      "text/plain": [
       "   TRAVELER  MODE  TTME  INVC  INVT  HINC  MODE_ID  intercept\n",
       "0         1     0    69    59   100    35        1        1.0\n",
       "1         1     0    34    31   372    35        2        1.0\n",
       "2         1     0    35    25   417    35        3        1.0\n",
       "3         1     1     0    10   180    35        4        1.0\n",
       "4         2     0    64    58    68    30        1        1.0"
      ]
     },
     "execution_count": 16,
     "metadata": {},
     "output_type": "execute_result"
    }
   ],
   "source": [
    "data1.head()"
   ]
  },
  {
   "cell_type": "code",
   "execution_count": 17,
   "metadata": {},
   "outputs": [],
   "source": [
    "data1['prob'] = model1.predict(data1)"
   ]
  },
  {
   "cell_type": "code",
   "execution_count": 18,
   "metadata": {},
   "outputs": [
    {
     "data": {
      "text/html": [
       "<div>\n",
       "<style scoped>\n",
       "    .dataframe tbody tr th:only-of-type {\n",
       "        vertical-align: middle;\n",
       "    }\n",
       "\n",
       "    .dataframe tbody tr th {\n",
       "        vertical-align: top;\n",
       "    }\n",
       "\n",
       "    .dataframe thead th {\n",
       "        text-align: right;\n",
       "    }\n",
       "</style>\n",
       "<table border=\"1\" class=\"dataframe\">\n",
       "  <thead>\n",
       "    <tr style=\"text-align: right;\">\n",
       "      <th></th>\n",
       "      <th>TRAVELER</th>\n",
       "      <th>MODE</th>\n",
       "      <th>TTME</th>\n",
       "      <th>INVC</th>\n",
       "      <th>INVT</th>\n",
       "      <th>HINC</th>\n",
       "      <th>MODE_ID</th>\n",
       "      <th>intercept</th>\n",
       "      <th>prob</th>\n",
       "    </tr>\n",
       "  </thead>\n",
       "  <tbody>\n",
       "    <tr>\n",
       "      <th>0</th>\n",
       "      <td>1</td>\n",
       "      <td>0</td>\n",
       "      <td>69</td>\n",
       "      <td>59</td>\n",
       "      <td>100</td>\n",
       "      <td>35</td>\n",
       "      <td>1</td>\n",
       "      <td>1.0</td>\n",
       "      <td>0.048330</td>\n",
       "    </tr>\n",
       "    <tr>\n",
       "      <th>1</th>\n",
       "      <td>1</td>\n",
       "      <td>0</td>\n",
       "      <td>34</td>\n",
       "      <td>31</td>\n",
       "      <td>372</td>\n",
       "      <td>35</td>\n",
       "      <td>2</td>\n",
       "      <td>1.0</td>\n",
       "      <td>0.325514</td>\n",
       "    </tr>\n",
       "    <tr>\n",
       "      <th>2</th>\n",
       "      <td>1</td>\n",
       "      <td>0</td>\n",
       "      <td>35</td>\n",
       "      <td>25</td>\n",
       "      <td>417</td>\n",
       "      <td>35</td>\n",
       "      <td>3</td>\n",
       "      <td>1.0</td>\n",
       "      <td>0.140507</td>\n",
       "    </tr>\n",
       "    <tr>\n",
       "      <th>3</th>\n",
       "      <td>1</td>\n",
       "      <td>1</td>\n",
       "      <td>0</td>\n",
       "      <td>10</td>\n",
       "      <td>180</td>\n",
       "      <td>35</td>\n",
       "      <td>4</td>\n",
       "      <td>1.0</td>\n",
       "      <td>0.485649</td>\n",
       "    </tr>\n",
       "    <tr>\n",
       "      <th>4</th>\n",
       "      <td>2</td>\n",
       "      <td>0</td>\n",
       "      <td>64</td>\n",
       "      <td>58</td>\n",
       "      <td>68</td>\n",
       "      <td>30</td>\n",
       "      <td>1</td>\n",
       "      <td>1.0</td>\n",
       "      <td>0.149547</td>\n",
       "    </tr>\n",
       "  </tbody>\n",
       "</table>\n",
       "</div>"
      ],
      "text/plain": [
       "   TRAVELER  MODE  TTME  INVC  INVT  HINC  MODE_ID  intercept      prob\n",
       "0         1     0    69    59   100    35        1        1.0  0.048330\n",
       "1         1     0    34    31   372    35        2        1.0  0.325514\n",
       "2         1     0    35    25   417    35        3        1.0  0.140507\n",
       "3         1     1     0    10   180    35        4        1.0  0.485649\n",
       "4         2     0    64    58    68    30        1        1.0  0.149547"
      ]
     },
     "execution_count": 18,
     "metadata": {},
     "output_type": "execute_result"
    }
   ],
   "source": [
    "data1.head(5)"
   ]
  },
  {
   "cell_type": "code",
   "execution_count": 19,
   "metadata": {},
   "outputs": [],
   "source": [
    "## get the index of the maximum probability for each Traveler \n",
    "idx = data1.groupby(['TRAVELER'])['prob'].idxmax()\n",
    "data1['pred_selection'] = 0\n",
    "## set the selection as 1 for the indexes.\n",
    "data1.loc[idx, 'pred_selection'] = 1"
   ]
  },
  {
   "cell_type": "code",
   "execution_count": 20,
   "metadata": {},
   "outputs": [
    {
     "data": {
      "text/html": [
       "<div>\n",
       "<style scoped>\n",
       "    .dataframe tbody tr th:only-of-type {\n",
       "        vertical-align: middle;\n",
       "    }\n",
       "\n",
       "    .dataframe tbody tr th {\n",
       "        vertical-align: top;\n",
       "    }\n",
       "\n",
       "    .dataframe thead th {\n",
       "        text-align: right;\n",
       "    }\n",
       "</style>\n",
       "<table border=\"1\" class=\"dataframe\">\n",
       "  <thead>\n",
       "    <tr style=\"text-align: right;\">\n",
       "      <th></th>\n",
       "      <th>TRAVELER</th>\n",
       "      <th>MODE</th>\n",
       "      <th>TTME</th>\n",
       "      <th>INVC</th>\n",
       "      <th>INVT</th>\n",
       "      <th>HINC</th>\n",
       "      <th>MODE_ID</th>\n",
       "      <th>intercept</th>\n",
       "      <th>prob</th>\n",
       "      <th>pred_selection</th>\n",
       "    </tr>\n",
       "  </thead>\n",
       "  <tbody>\n",
       "    <tr>\n",
       "      <th>0</th>\n",
       "      <td>1</td>\n",
       "      <td>0</td>\n",
       "      <td>69</td>\n",
       "      <td>59</td>\n",
       "      <td>100</td>\n",
       "      <td>35</td>\n",
       "      <td>1</td>\n",
       "      <td>1.0</td>\n",
       "      <td>0.048330</td>\n",
       "      <td>0</td>\n",
       "    </tr>\n",
       "    <tr>\n",
       "      <th>1</th>\n",
       "      <td>1</td>\n",
       "      <td>0</td>\n",
       "      <td>34</td>\n",
       "      <td>31</td>\n",
       "      <td>372</td>\n",
       "      <td>35</td>\n",
       "      <td>2</td>\n",
       "      <td>1.0</td>\n",
       "      <td>0.325514</td>\n",
       "      <td>0</td>\n",
       "    </tr>\n",
       "    <tr>\n",
       "      <th>2</th>\n",
       "      <td>1</td>\n",
       "      <td>0</td>\n",
       "      <td>35</td>\n",
       "      <td>25</td>\n",
       "      <td>417</td>\n",
       "      <td>35</td>\n",
       "      <td>3</td>\n",
       "      <td>1.0</td>\n",
       "      <td>0.140507</td>\n",
       "      <td>0</td>\n",
       "    </tr>\n",
       "    <tr>\n",
       "      <th>3</th>\n",
       "      <td>1</td>\n",
       "      <td>1</td>\n",
       "      <td>0</td>\n",
       "      <td>10</td>\n",
       "      <td>180</td>\n",
       "      <td>35</td>\n",
       "      <td>4</td>\n",
       "      <td>1.0</td>\n",
       "      <td>0.485649</td>\n",
       "      <td>1</td>\n",
       "    </tr>\n",
       "    <tr>\n",
       "      <th>4</th>\n",
       "      <td>2</td>\n",
       "      <td>0</td>\n",
       "      <td>64</td>\n",
       "      <td>58</td>\n",
       "      <td>68</td>\n",
       "      <td>30</td>\n",
       "      <td>1</td>\n",
       "      <td>1.0</td>\n",
       "      <td>0.149547</td>\n",
       "      <td>0</td>\n",
       "    </tr>\n",
       "  </tbody>\n",
       "</table>\n",
       "</div>"
      ],
      "text/plain": [
       "   TRAVELER  MODE  TTME  INVC  INVT  HINC  MODE_ID  intercept      prob  \\\n",
       "0         1     0    69    59   100    35        1        1.0  0.048330   \n",
       "1         1     0    34    31   372    35        2        1.0  0.325514   \n",
       "2         1     0    35    25   417    35        3        1.0  0.140507   \n",
       "3         1     1     0    10   180    35        4        1.0  0.485649   \n",
       "4         2     0    64    58    68    30        1        1.0  0.149547   \n",
       "\n",
       "   pred_selection  \n",
       "0               0  \n",
       "1               0  \n",
       "2               0  \n",
       "3               1  \n",
       "4               0  "
      ]
     },
     "execution_count": 20,
     "metadata": {},
     "output_type": "execute_result"
    }
   ],
   "source": [
    "data1.head()"
   ]
  },
  {
   "cell_type": "code",
   "execution_count": 21,
   "metadata": {},
   "outputs": [
    {
     "name": "stdout",
     "output_type": "stream",
     "text": [
      "Predicted share of each mode of transport:\n"
     ]
    },
    {
     "data": {
      "text/plain": [
       "4    0.319048\n",
       "2    0.304762\n",
       "1    0.261905\n",
       "3    0.114286\n",
       "Name: pred_mode, dtype: float64"
      ]
     },
     "execution_count": 21,
     "metadata": {},
     "output_type": "execute_result"
    }
   ],
   "source": [
    "## How much is the predicted share for each mode of transport ? \n",
    "def label_mode(row, pred_or_actual):\n",
    "    if pred_or_actual == 'pred':\n",
    "        \n",
    "        if row['pred_selection'] == 1:\n",
    "            return row['MODE_ID']\n",
    "        else:\n",
    "            return 0\n",
    "    elif pred_or_actual == 'actual':\n",
    "        if row['MODE'] == 1:\n",
    "            return row['MODE_ID']\n",
    "        else:\n",
    "            return 0\n",
    "        \n",
    "    \n",
    "data1['pred_mode'] = data1[['MODE_ID','pred_selection']].apply(lambda row: label_mode(row, 'pred'), axis = 1)\n",
    "data1['actual_mode'] = data1[['MODE_ID','MODE']].apply(lambda row: label_mode(row, 'actual'), axis = 1)\n",
    "##\n",
    "print(\"Predicted share of each mode of transport:\")\n",
    "data1[data1['pred_mode'] !=0]['pred_mode'].value_counts(normalize = True)"
   ]
  },
  {
   "cell_type": "code",
   "execution_count": 33,
   "metadata": {},
   "outputs": [
    {
     "name": "stderr",
     "output_type": "stream",
     "text": [
      "<ipython-input-33-6c669203bc80>:1: FutureWarning: Indexing with multiple keys (implicitly converted to a tuple of keys) will be deprecated, use a list instead.\n",
      "  crosstab_data = data1[['pred_mode','actual_mode','TRAVELER']].groupby(['TRAVELER'])['pred_mode','actual_mode'].agg({'max'}).reset_index()\n"
     ]
    }
   ],
   "source": [
    "crosstab_data = data1[['pred_mode','actual_mode','TRAVELER']].groupby(['TRAVELER'])['pred_mode','actual_mode'].agg({'max'}).reset_index()"
   ]
  },
  {
   "cell_type": "code",
   "execution_count": 44,
   "metadata": {},
   "outputs": [
    {
     "name": "stdout",
     "output_type": "stream",
     "text": [
      "(210, 3)\n"
     ]
    }
   ],
   "source": [
    "crosstab_data.columns= ['TRAVELER', 'pred_mode', 'actual_mode']\n",
    "crosstab_data.head()\n",
    "print(crosstab_data.shape)\n"
   ]
  },
  {
   "cell_type": "code",
   "execution_count": 43,
   "metadata": {},
   "outputs": [
    {
     "data": {
      "text/html": [
       "<div>\n",
       "<style scoped>\n",
       "    .dataframe tbody tr th:only-of-type {\n",
       "        vertical-align: middle;\n",
       "    }\n",
       "\n",
       "    .dataframe tbody tr th {\n",
       "        vertical-align: top;\n",
       "    }\n",
       "\n",
       "    .dataframe thead th {\n",
       "        text-align: right;\n",
       "    }\n",
       "</style>\n",
       "<table border=\"1\" class=\"dataframe\">\n",
       "  <thead>\n",
       "    <tr style=\"text-align: right;\">\n",
       "      <th>pred_mode</th>\n",
       "      <th>1</th>\n",
       "      <th>2</th>\n",
       "      <th>3</th>\n",
       "      <th>4</th>\n",
       "    </tr>\n",
       "    <tr>\n",
       "      <th>actual_mode</th>\n",
       "      <th></th>\n",
       "      <th></th>\n",
       "      <th></th>\n",
       "      <th></th>\n",
       "    </tr>\n",
       "  </thead>\n",
       "  <tbody>\n",
       "    <tr>\n",
       "      <th>1</th>\n",
       "      <td>39</td>\n",
       "      <td>4</td>\n",
       "      <td>0</td>\n",
       "      <td>15</td>\n",
       "    </tr>\n",
       "    <tr>\n",
       "      <th>2</th>\n",
       "      <td>6</td>\n",
       "      <td>49</td>\n",
       "      <td>1</td>\n",
       "      <td>7</td>\n",
       "    </tr>\n",
       "    <tr>\n",
       "      <th>3</th>\n",
       "      <td>3</td>\n",
       "      <td>3</td>\n",
       "      <td>23</td>\n",
       "      <td>1</td>\n",
       "    </tr>\n",
       "    <tr>\n",
       "      <th>4</th>\n",
       "      <td>7</td>\n",
       "      <td>8</td>\n",
       "      <td>0</td>\n",
       "      <td>44</td>\n",
       "    </tr>\n",
       "  </tbody>\n",
       "</table>\n",
       "</div>"
      ],
      "text/plain": [
       "pred_mode     1   2   3   4\n",
       "actual_mode                \n",
       "1            39   4   0  15\n",
       "2             6  49   1   7\n",
       "3             3   3  23   1\n",
       "4             7   8   0  44"
      ]
     },
     "execution_count": 43,
     "metadata": {},
     "output_type": "execute_result"
    }
   ],
   "source": [
    "pd.crosstab(crosstab_data['actual_mode'], crosstab_data['pred_mode'])"
   ]
  },
  {
   "cell_type": "code",
   "execution_count": 45,
   "metadata": {},
   "outputs": [
    {
     "name": "stdout",
     "output_type": "stream",
     "text": [
      "              precision    recall  f1-score   support\n",
      "\n",
      "           1       0.71      0.67      0.69        58\n",
      "           2       0.77      0.78      0.77        63\n",
      "           3       0.96      0.77      0.85        30\n",
      "           4       0.66      0.75      0.70        59\n",
      "\n",
      "    accuracy                           0.74       210\n",
      "   macro avg       0.77      0.74      0.75       210\n",
      "weighted avg       0.75      0.74      0.74       210\n",
      "\n"
     ]
    }
   ],
   "source": [
    "from sklearn.metrics import classification_report \n",
    "print(classification_report(crosstab_data['actual_mode'], crosstab_data['pred_mode']))\n"
   ]
  },
  {
   "cell_type": "markdown",
   "metadata": {},
   "source": [
    "The model has a good prediction rate with the least mis-classification for Bus - mode 3, followed by that for mode 2 -Train.    "
   ]
  },
  {
   "cell_type": "code",
   "execution_count": 46,
   "metadata": {},
   "outputs": [],
   "source": [
    "## Adding the effect of Income on travel mode choice \n",
    "\n",
    "data2 = data.copy()\n",
    "basic_specification['HINC'] = [2,3,4]\n",
    "basic_names['HINC'] = ['train:income', 'bus:income', 'car:income']"
   ]
  },
  {
   "cell_type": "code",
   "execution_count": 47,
   "metadata": {},
   "outputs": [
    {
     "data": {
      "text/plain": [
       "OrderedDict([('intercept', [2, 3, 4]),\n",
       "             ('TTME', [[1, 2, 3, 4]]),\n",
       "             ('INVC', [[1, 2, 3, 4]]),\n",
       "             ('INVT', [[1, 2, 3, 4]]),\n",
       "             ('HINC', [2, 3, 4])])"
      ]
     },
     "execution_count": 47,
     "metadata": {},
     "output_type": "execute_result"
    }
   ],
   "source": [
    "basic_specification"
   ]
  },
  {
   "cell_type": "code",
   "execution_count": 48,
   "metadata": {},
   "outputs": [
    {
     "data": {
      "text/plain": [
       "OrderedDict([('intercept',\n",
       "              ['train:intercept', 'bus:intercept', 'car:intercept']),\n",
       "             ('TTME', ['TTME']),\n",
       "             ('INVC', ['INVC']),\n",
       "             ('INVT', ['INVT']),\n",
       "             ('HINC', ['train:income', 'bus:income', 'car:income'])])"
      ]
     },
     "execution_count": 48,
     "metadata": {},
     "output_type": "execute_result"
    }
   ],
   "source": [
    "basic_names"
   ]
  },
  {
   "cell_type": "code",
   "execution_count": 49,
   "metadata": {},
   "outputs": [
    {
     "name": "stdout",
     "output_type": "stream",
     "text": [
      "Log-likelihood at zero: -291.1218\n",
      "Initial Log-likelihood: -291.1218\n",
      "Estimation Time for Point Estimation: 0.09 seconds.\n",
      "Final log-likelihood: -182.2186\n"
     ]
    },
    {
     "name": "stderr",
     "output_type": "stream",
     "text": [
      "/Users/anushabanninthaya/opt/anaconda3/lib/python3.8/site-packages/scipy/optimize/_minimize.py:522: RuntimeWarning: Method BFGS does not use Hessian information (hess).\n",
      "  warn('Method %s does not use Hessian information (hess).' % method,\n"
     ]
    },
    {
     "data": {
      "text/html": [
       "<table class=\"simpletable\">\n",
       "<caption>Multinomial Logit Model Regression Results</caption>\n",
       "<tr>\n",
       "  <th>Dep. Variable:</th>          <td>MODE</td>           <th>  No. Observations:  </th>    <td>210</td>  \n",
       "</tr>\n",
       "<tr>\n",
       "  <th>Model:</th>         <td>Multinomial Logit Model</td> <th>  Df Residuals:      </th>    <td>201</td>  \n",
       "</tr>\n",
       "<tr>\n",
       "  <th>Method:</th>                  <td>MLE</td>           <th>  Df Model:          </th>     <td>9</td>   \n",
       "</tr>\n",
       "<tr>\n",
       "  <th>Date:</th>             <td>Fri, 01 Jan 2021</td>     <th>  Pseudo R-squ.:     </th>   <td>0.374</td> \n",
       "</tr>\n",
       "<tr>\n",
       "  <th>Time:</th>                 <td>14:57:40</td>         <th>  Pseudo R-bar-squ.: </th>   <td>0.343</td> \n",
       "</tr>\n",
       "<tr>\n",
       "  <th>AIC:</th>                   <td>382.437</td>         <th>  Log-Likelihood:    </th> <td>-182.219</td>\n",
       "</tr>\n",
       "<tr>\n",
       "  <th>BIC:</th>                   <td>412.561</td>         <th>  LL-Null:           </th> <td>-291.122</td>\n",
       "</tr>\n",
       "</table>\n",
       "<table class=\"simpletable\">\n",
       "<tr>\n",
       "         <td></td>            <th>coef</th>     <th>std err</th>      <th>z</th>      <th>P>|z|</th>  <th>[0.025</th>    <th>0.975]</th>  \n",
       "</tr>\n",
       "<tr>\n",
       "  <th>train:intercept</th> <td>    1.2421</td> <td>    0.817</td> <td>    1.521</td> <td> 0.128</td> <td>   -0.359</td> <td>    2.843</td>\n",
       "</tr>\n",
       "<tr>\n",
       "  <th>bus:intercept</th>   <td>   -0.1844</td> <td>    0.897</td> <td>   -0.206</td> <td> 0.837</td> <td>   -1.942</td> <td>    1.573</td>\n",
       "</tr>\n",
       "<tr>\n",
       "  <th>car:intercept</th>   <td>   -4.2474</td> <td>    1.007</td> <td>   -4.220</td> <td> 0.000</td> <td>   -6.220</td> <td>   -2.275</td>\n",
       "</tr>\n",
       "<tr>\n",
       "  <th>TTME</th>            <td>   -0.0953</td> <td>    0.010</td> <td>   -9.202</td> <td> 0.000</td> <td>   -0.116</td> <td>   -0.075</td>\n",
       "</tr>\n",
       "<tr>\n",
       "  <th>INVC</th>            <td>   -0.0045</td> <td>    0.007</td> <td>   -0.624</td> <td> 0.533</td> <td>   -0.019</td> <td>    0.010</td>\n",
       "</tr>\n",
       "<tr>\n",
       "  <th>INVT</th>            <td>   -0.0037</td> <td>    0.001</td> <td>   -4.222</td> <td> 0.000</td> <td>   -0.005</td> <td>   -0.002</td>\n",
       "</tr>\n",
       "<tr>\n",
       "  <th>train:income</th>    <td>   -0.0559</td> <td>    0.015</td> <td>   -3.640</td> <td> 0.000</td> <td>   -0.086</td> <td>   -0.026</td>\n",
       "</tr>\n",
       "<tr>\n",
       "  <th>bus:income</th>      <td>   -0.0231</td> <td>    0.016</td> <td>   -1.404</td> <td> 0.160</td> <td>   -0.055</td> <td>    0.009</td>\n",
       "</tr>\n",
       "<tr>\n",
       "  <th>car:income</th>      <td>    0.0021</td> <td>    0.012</td> <td>    0.174</td> <td> 0.862</td> <td>   -0.022</td> <td>    0.026</td>\n",
       "</tr>\n",
       "</table>"
      ],
      "text/plain": [
       "<class 'statsmodels.iolib.summary.Summary'>\n",
       "\"\"\"\n",
       "                     Multinomial Logit Model Regression Results                    \n",
       "===================================================================================\n",
       "Dep. Variable:                        MODE   No. Observations:                  210\n",
       "Model:             Multinomial Logit Model   Df Residuals:                      201\n",
       "Method:                                MLE   Df Model:                            9\n",
       "Date:                     Fri, 01 Jan 2021   Pseudo R-squ.:                   0.374\n",
       "Time:                             14:57:40   Pseudo R-bar-squ.:               0.343\n",
       "AIC:                               382.437   Log-Likelihood:               -182.219\n",
       "BIC:                               412.561   LL-Null:                      -291.122\n",
       "===================================================================================\n",
       "                      coef    std err          z      P>|z|      [0.025      0.975]\n",
       "-----------------------------------------------------------------------------------\n",
       "train:intercept     1.2421      0.817      1.521      0.128      -0.359       2.843\n",
       "bus:intercept      -0.1844      0.897     -0.206      0.837      -1.942       1.573\n",
       "car:intercept      -4.2474      1.007     -4.220      0.000      -6.220      -2.275\n",
       "TTME               -0.0953      0.010     -9.202      0.000      -0.116      -0.075\n",
       "INVC               -0.0045      0.007     -0.624      0.533      -0.019       0.010\n",
       "INVT               -0.0037      0.001     -4.222      0.000      -0.005      -0.002\n",
       "train:income       -0.0559      0.015     -3.640      0.000      -0.086      -0.026\n",
       "bus:income         -0.0231      0.016     -1.404      0.160      -0.055       0.009\n",
       "car:income          0.0021      0.012      0.174      0.862      -0.022       0.026\n",
       "===================================================================================\n",
       "\"\"\""
      ]
     },
     "execution_count": 49,
     "metadata": {},
     "output_type": "execute_result"
    }
   ],
   "source": [
    "model2 = pl.create_choice_model(data = data2,\n",
    "                               alt_id_col = 'MODE_ID',\n",
    "                               obs_id_col = 'TRAVELER',\n",
    "                               choice_col = 'MODE',\n",
    "                               specification = basic_specification,\n",
    "                               model_type = 'MNL',\n",
    "                               names = basic_names)\n",
    "model2.fit_mle(np.zeros(9))\n",
    "model2.get_statsmodels_summary()"
   ]
  },
  {
   "cell_type": "markdown",
   "metadata": {},
   "source": [
    "Model's BIC has reduced a bit , indicating a slightly better model.\n",
    "The p value indicates that the variables 'intercept for Car' , TTME , INVT and interaction of Income on Train mode are statistically significant.   "
   ]
  },
  {
   "cell_type": "code",
   "execution_count": 50,
   "metadata": {},
   "outputs": [],
   "source": [
    "data2['prob'] = model2.predict(data2)"
   ]
  },
  {
   "cell_type": "code",
   "execution_count": 58,
   "metadata": {},
   "outputs": [
    {
     "name": "stdout",
     "output_type": "stream",
     "text": [
      "   TRAVELER  MODE  TTME  INVC  INVT  HINC  MODE_ID  intercept      prob  \\\n",
      "0         1     0    69    59   100    35        1        1.0  0.048879   \n",
      "1         1     0    34    31   372    35        2        1.0  0.281245   \n",
      "2         1     0    35    25   417    35        3        1.0  0.168508   \n",
      "3         1     1     0    10   180    35        4        1.0  0.501368   \n",
      "4         2     0    64    58    68    30        1        1.0  0.136002   \n",
      "\n",
      "   pred_selection  pred_mode  actual_mode  \n",
      "0               0          0            0  \n",
      "1               0          0            0  \n",
      "2               0          0            0  \n",
      "3               1          4            4  \n",
      "4               0          0            0  \n",
      "\n",
      " Predicted share of each mode of transport:\n",
      "2    0.319048\n",
      "4    0.309524\n",
      "1    0.257143\n",
      "3    0.114286\n",
      "Name: pred_mode, dtype: float64\n",
      "(210, 3)\n"
     ]
    },
    {
     "name": "stderr",
     "output_type": "stream",
     "text": [
      "<ipython-input-58-54b40b2fa7cb>:15: FutureWarning: Indexing with multiple keys (implicitly converted to a tuple of keys) will be deprecated, use a list instead.\n",
      "  crosstab_data2 = data2[['pred_mode','actual_mode','TRAVELER']].groupby(['TRAVELER'])['pred_mode','actual_mode'].agg({'max'}).reset_index()\n"
     ]
    }
   ],
   "source": [
    "data2.head(5)\n",
    "## get the index of the maximum probability for each Traveler \n",
    "idx2 = data2.groupby(['TRAVELER'])['prob'].idxmax()\n",
    "data2['pred_selection'] = 0\n",
    "## set the selection as 1 for the indexes.\n",
    "data2.loc[idx2, 'pred_selection'] = 1\n",
    "##\n",
    "print(data2.head())\n",
    "data2['pred_mode'] = data2[['MODE_ID','pred_selection']].apply(lambda row: label_mode(row, 'pred'), axis = 1)\n",
    "data2['actual_mode'] = data2[['MODE_ID','MODE']].apply(lambda row: label_mode(row, 'actual'), axis = 1)\n",
    "##\n",
    "print(\"\\n Predicted share of each mode of transport:\")\n",
    "print(data2[data2['pred_mode'] !=0]['pred_mode'].value_counts(normalize = True))\n",
    "##\n",
    "crosstab_data2 = data2[['pred_mode','actual_mode','TRAVELER']].groupby(['TRAVELER'])['pred_mode','actual_mode'].agg({'max'}).reset_index()\n",
    "##\n",
    "crosstab_data2.columns = ['TRAVELER', 'pred_mode', 'actual_mode']\n",
    "crosstab_data2.head()\n",
    "print(crosstab_data2.shape)\n"
   ]
  },
  {
   "cell_type": "code",
   "execution_count": 56,
   "metadata": {},
   "outputs": [
    {
     "data": {
      "text/html": [
       "<div>\n",
       "<style scoped>\n",
       "    .dataframe tbody tr th:only-of-type {\n",
       "        vertical-align: middle;\n",
       "    }\n",
       "\n",
       "    .dataframe tbody tr th {\n",
       "        vertical-align: top;\n",
       "    }\n",
       "\n",
       "    .dataframe thead th {\n",
       "        text-align: right;\n",
       "    }\n",
       "</style>\n",
       "<table border=\"1\" class=\"dataframe\">\n",
       "  <thead>\n",
       "    <tr style=\"text-align: right;\">\n",
       "      <th>pred_mode</th>\n",
       "      <th>1</th>\n",
       "      <th>2</th>\n",
       "      <th>3</th>\n",
       "      <th>4</th>\n",
       "    </tr>\n",
       "    <tr>\n",
       "      <th>actual_mode</th>\n",
       "      <th></th>\n",
       "      <th></th>\n",
       "      <th></th>\n",
       "      <th></th>\n",
       "    </tr>\n",
       "  </thead>\n",
       "  <tbody>\n",
       "    <tr>\n",
       "      <th>1</th>\n",
       "      <td>40</td>\n",
       "      <td>5</td>\n",
       "      <td>0</td>\n",
       "      <td>13</td>\n",
       "    </tr>\n",
       "    <tr>\n",
       "      <th>2</th>\n",
       "      <td>6</td>\n",
       "      <td>50</td>\n",
       "      <td>1</td>\n",
       "      <td>6</td>\n",
       "    </tr>\n",
       "    <tr>\n",
       "      <th>3</th>\n",
       "      <td>1</td>\n",
       "      <td>3</td>\n",
       "      <td>23</td>\n",
       "      <td>3</td>\n",
       "    </tr>\n",
       "    <tr>\n",
       "      <th>4</th>\n",
       "      <td>7</td>\n",
       "      <td>9</td>\n",
       "      <td>0</td>\n",
       "      <td>43</td>\n",
       "    </tr>\n",
       "  </tbody>\n",
       "</table>\n",
       "</div>"
      ],
      "text/plain": [
       "pred_mode     1   2   3   4\n",
       "actual_mode                \n",
       "1            40   5   0  13\n",
       "2             6  50   1   6\n",
       "3             1   3  23   3\n",
       "4             7   9   0  43"
      ]
     },
     "execution_count": 56,
     "metadata": {},
     "output_type": "execute_result"
    }
   ],
   "source": [
    "##\n",
    "pd.crosstab(crosstab_data2['actual_mode'], crosstab_data2['pred_mode'])"
   ]
  },
  {
   "cell_type": "code",
   "execution_count": 57,
   "metadata": {},
   "outputs": [
    {
     "name": "stdout",
     "output_type": "stream",
     "text": [
      "              precision    recall  f1-score   support\n",
      "\n",
      "           1       0.74      0.69      0.71        58\n",
      "           2       0.75      0.79      0.77        63\n",
      "           3       0.96      0.77      0.85        30\n",
      "           4       0.66      0.73      0.69        59\n",
      "\n",
      "    accuracy                           0.74       210\n",
      "   macro avg       0.78      0.74      0.76       210\n",
      "weighted avg       0.75      0.74      0.74       210\n",
      "\n"
     ]
    }
   ],
   "source": [
    "print(classification_report(crosstab_data2['actual_mode'], crosstab_data2['pred_mode']))"
   ]
  },
  {
   "cell_type": "markdown",
   "metadata": {},
   "source": [
    "For mode 1 and 2 i.e plane and train , the true positive has increased by one.    "
   ]
  },
  {
   "cell_type": "code",
   "execution_count": 70,
   "metadata": {},
   "outputs": [],
   "source": [
    "l1 = model1.fit_summary['Fitted Log-Likelihood']\n",
    "l2 = model2.fit_summary['Fitted Log-Likelihood']\n"
   ]
  },
  {
   "cell_type": "code",
   "execution_count": 71,
   "metadata": {},
   "outputs": [
    {
     "data": {
      "text/plain": [
       "8.948392116314905e-05"
      ]
     },
     "execution_count": 71,
     "metadata": {},
     "output_type": "execute_result"
    }
   ],
   "source": [
    "## chisq test \n",
    "from scipy.stats.distributions import chi2\n",
    "def lrtest(lmax, lmin , dof):\n",
    "    llr = 2*(lmax - lmin)\n",
    "    p = chi2.sf(llr, dof)\n",
    "    return p\n",
    "\n",
    "lrtest(l2,l1,3)"
   ]
  },
  {
   "cell_type": "markdown",
   "metadata": {},
   "source": [
    "Scenario modelling :  "
   ]
  },
  {
   "cell_type": "markdown",
   "metadata": {},
   "source": [
    "If the Train mode reduces its travel time by 10%, what is the effect on the market share of each mode of transport ?  "
   ]
  },
  {
   "cell_type": "code",
   "execution_count": 59,
   "metadata": {},
   "outputs": [],
   "source": [
    "data2_new = data.copy()\n",
    "data2_new['INVT'] = data2_new.apply(lambda row : row['INVT']*0.9 if row['MODE_ID'] ==2 else row['INVT'] , axis = 1)\n"
   ]
  },
  {
   "cell_type": "code",
   "execution_count": 60,
   "metadata": {},
   "outputs": [
    {
     "name": "stdout",
     "output_type": "stream",
     "text": [
      "Predicted share of each mode of transport with 10% reduction in train travel time:\n",
      "2    0.338095\n",
      "4    0.300000\n",
      "1    0.252381\n",
      "3    0.109524\n",
      "Name: pred_mode, dtype: float64\n"
     ]
    }
   ],
   "source": [
    "## predict the probability of selection of each choice \n",
    "data2_new['prob'] = model2.predict(data2_new)\n",
    "## get the index of the maximum probability for each Traveler \n",
    "idx2 = data2_new.groupby(['TRAVELER'])['prob'].idxmax()\n",
    "data2_new['pred_selection'] = 0\n",
    "## set the selection as 1 for the indexes.\n",
    "data2_new.loc[idx2, 'pred_selection'] = 1\n",
    "## set the values of actual_mode and predicted mode columns\n",
    "data2_new['pred_mode'] = data2_new[['MODE_ID','pred_selection']].apply(lambda row: label_mode(row, 'pred'), axis = 1)\n",
    "data2_new['actual_mode'] = data2_new[['MODE_ID','MODE']].apply(lambda row: label_mode(row, 'actual'), axis = 1)\n",
    "## market share of each mode of travel \n",
    "print(\"Predicted share of each mode of transport with 10% reduction in train travel time:\")\n",
    "print(data2_new[data2_new['pred_mode'] !=0]['pred_mode'].value_counts(normalize = True))\n",
    "pred_share_new = data2_new[data2_new['pred_mode'] !=0]['pred_mode'].value_counts(normalize = True)\n",
    "pred_share_old = data2[data2['pred_mode'] !=0]['pred_mode'].value_counts(normalize = True)"
   ]
  },
  {
   "cell_type": "code",
   "execution_count": 61,
   "metadata": {},
   "outputs": [
    {
     "data": {
      "text/plain": [
       "2    0.319048\n",
       "4    0.309524\n",
       "1    0.257143\n",
       "3    0.114286\n",
       "Name: pred_mode, dtype: float64"
      ]
     },
     "execution_count": 61,
     "metadata": {},
     "output_type": "execute_result"
    }
   ],
   "source": [
    "pred_share_old"
   ]
  },
  {
   "cell_type": "code",
   "execution_count": 62,
   "metadata": {},
   "outputs": [
    {
     "data": {
      "text/plain": [
       "2    0.059701\n",
       "4   -0.030769\n",
       "1   -0.018519\n",
       "3   -0.041667\n",
       "Name: pred_mode, dtype: float64"
      ]
     },
     "execution_count": 62,
     "metadata": {},
     "output_type": "execute_result"
    }
   ],
   "source": [
    "## Change in market share of each mode \n",
    "(pred_share_new - pred_share_old)/pred_share_old"
   ]
  },
  {
   "cell_type": "markdown",
   "metadata": {},
   "source": [
    "Its seen that the with 10% reduction in In-vehicle-Train time , the predicted market share of Train mode increases by 5%. Mode of Bus is impacted by this change with a maximum reduction of market share of 4%."
   ]
  },
  {
   "cell_type": "markdown",
   "metadata": {},
   "source": [
    "Impact of Adding Interaction Terms:"
   ]
  },
  {
   "cell_type": "code",
   "execution_count": 63,
   "metadata": {},
   "outputs": [],
   "source": [
    "## Adding interaction terms \n",
    "data3 = data.copy()\n",
    "data3['TTME:income'] = data3['TTME']*data3['HINC']\n",
    "data3['INVC:income'] = data3['INVC']*data3['HINC']\n",
    "data3['INVT:income'] = data3['INVT']*data3['HINC']\n"
   ]
  },
  {
   "cell_type": "code",
   "execution_count": 64,
   "metadata": {},
   "outputs": [],
   "source": [
    "interaction = data3.iloc[:,-3:].columns\n",
    "for col in interaction:\n",
    "    basic_specification[col] = [[1,2,3,4]]\n",
    "    basic_names[col] = [col]"
   ]
  },
  {
   "cell_type": "code",
   "execution_count": 65,
   "metadata": {},
   "outputs": [
    {
     "data": {
      "text/plain": [
       "OrderedDict([('intercept', [2, 3, 4]),\n",
       "             ('TTME', [[1, 2, 3, 4]]),\n",
       "             ('INVC', [[1, 2, 3, 4]]),\n",
       "             ('INVT', [[1, 2, 3, 4]]),\n",
       "             ('HINC', [2, 3, 4]),\n",
       "             ('TTME:income', [[1, 2, 3, 4]]),\n",
       "             ('INVC:income', [[1, 2, 3, 4]]),\n",
       "             ('INVT:income', [[1, 2, 3, 4]])])"
      ]
     },
     "execution_count": 65,
     "metadata": {},
     "output_type": "execute_result"
    }
   ],
   "source": [
    "basic_specification"
   ]
  },
  {
   "cell_type": "code",
   "execution_count": 66,
   "metadata": {},
   "outputs": [
    {
     "data": {
      "text/plain": [
       "OrderedDict([('intercept',\n",
       "              ['train:intercept', 'bus:intercept', 'car:intercept']),\n",
       "             ('TTME', ['TTME']),\n",
       "             ('INVC', ['INVC']),\n",
       "             ('INVT', ['INVT']),\n",
       "             ('HINC', ['train:income', 'bus:income', 'car:income']),\n",
       "             ('TTME:income', ['TTME:income']),\n",
       "             ('INVC:income', ['INVC:income']),\n",
       "             ('INVT:income', ['INVT:income'])])"
      ]
     },
     "execution_count": 66,
     "metadata": {},
     "output_type": "execute_result"
    }
   ],
   "source": [
    "basic_names"
   ]
  },
  {
   "cell_type": "code",
   "execution_count": 67,
   "metadata": {},
   "outputs": [
    {
     "name": "stdout",
     "output_type": "stream",
     "text": [
      "Log-likelihood at zero: -291.1218\n",
      "Initial Log-likelihood: -291.1218\n",
      "Estimation Time for Point Estimation: 0.09 seconds.\n",
      "Final log-likelihood: -180.1039\n"
     ]
    },
    {
     "name": "stderr",
     "output_type": "stream",
     "text": [
      "/Users/anushabanninthaya/opt/anaconda3/lib/python3.8/site-packages/scipy/optimize/_minimize.py:522: RuntimeWarning: Method BFGS does not use Hessian information (hess).\n",
      "  warn('Method %s does not use Hessian information (hess).' % method,\n"
     ]
    },
    {
     "data": {
      "text/html": [
       "<table class=\"simpletable\">\n",
       "<caption>Multinomial Logit Model Regression Results</caption>\n",
       "<tr>\n",
       "  <th>Dep. Variable:</th>          <td>MODE</td>           <th>  No. Observations:  </th>    <td>210</td>  \n",
       "</tr>\n",
       "<tr>\n",
       "  <th>Model:</th>         <td>Multinomial Logit Model</td> <th>  Df Residuals:      </th>    <td>198</td>  \n",
       "</tr>\n",
       "<tr>\n",
       "  <th>Method:</th>                  <td>MLE</td>           <th>  Df Model:          </th>    <td>12</td>   \n",
       "</tr>\n",
       "<tr>\n",
       "  <th>Date:</th>             <td>Fri, 01 Jan 2021</td>     <th>  Pseudo R-squ.:     </th>   <td>0.381</td> \n",
       "</tr>\n",
       "<tr>\n",
       "  <th>Time:</th>                 <td>18:43:16</td>         <th>  Pseudo R-bar-squ.: </th>   <td>0.340</td> \n",
       "</tr>\n",
       "<tr>\n",
       "  <th>AIC:</th>                   <td>384.208</td>         <th>  Log-Likelihood:    </th> <td>-180.104</td>\n",
       "</tr>\n",
       "<tr>\n",
       "  <th>BIC:</th>                   <td>424.373</td>         <th>  LL-Null:           </th> <td>-291.122</td>\n",
       "</tr>\n",
       "</table>\n",
       "<table class=\"simpletable\">\n",
       "<tr>\n",
       "         <td></td>            <th>coef</th>     <th>std err</th>      <th>z</th>      <th>P>|z|</th>  <th>[0.025</th>    <th>0.975]</th>  \n",
       "</tr>\n",
       "<tr>\n",
       "  <th>train:intercept</th> <td>    2.7964</td> <td>    1.374</td> <td>    2.036</td> <td> 0.042</td> <td>    0.104</td> <td>    5.489</td>\n",
       "</tr>\n",
       "<tr>\n",
       "  <th>bus:intercept</th>   <td>    1.3521</td> <td>    1.469</td> <td>    0.920</td> <td> 0.357</td> <td>   -1.527</td> <td>    4.231</td>\n",
       "</tr>\n",
       "<tr>\n",
       "  <th>car:intercept</th>   <td>   -2.2819</td> <td>    1.790</td> <td>   -1.274</td> <td> 0.202</td> <td>   -5.791</td> <td>    1.227</td>\n",
       "</tr>\n",
       "<tr>\n",
       "  <th>TTME</th>            <td>   -0.0768</td> <td>    0.020</td> <td>   -3.883</td> <td> 0.000</td> <td>   -0.116</td> <td>   -0.038</td>\n",
       "</tr>\n",
       "<tr>\n",
       "  <th>INVC</th>            <td>   -0.0121</td> <td>    0.016</td> <td>   -0.739</td> <td> 0.460</td> <td>   -0.044</td> <td>    0.020</td>\n",
       "</tr>\n",
       "<tr>\n",
       "  <th>INVT</th>            <td>   -0.0065</td> <td>    0.002</td> <td>   -3.429</td> <td> 0.001</td> <td>   -0.010</td> <td>   -0.003</td>\n",
       "</tr>\n",
       "<tr>\n",
       "  <th>train:income</th>    <td>   -0.0996</td> <td>    0.033</td> <td>   -3.041</td> <td> 0.002</td> <td>   -0.164</td> <td>   -0.035</td>\n",
       "</tr>\n",
       "<tr>\n",
       "  <th>bus:income</th>      <td>   -0.0650</td> <td>    0.035</td> <td>   -1.873</td> <td> 0.061</td> <td>   -0.133</td> <td>    0.003</td>\n",
       "</tr>\n",
       "<tr>\n",
       "  <th>car:income</th>      <td>   -0.0546</td> <td>    0.046</td> <td>   -1.193</td> <td> 0.233</td> <td>   -0.144</td> <td>    0.035</td>\n",
       "</tr>\n",
       "<tr>\n",
       "  <th>TTME:income</th>     <td>   -0.0006</td> <td>    0.001</td> <td>   -1.079</td> <td> 0.281</td> <td>   -0.002</td> <td>    0.001</td>\n",
       "</tr>\n",
       "<tr>\n",
       "  <th>INVC:income</th>     <td>    0.0002</td> <td>    0.000</td> <td>    0.576</td> <td> 0.564</td> <td>   -0.001</td> <td>    0.001</td>\n",
       "</tr>\n",
       "<tr>\n",
       "  <th>INVT:income</th>     <td> 7.517e-05</td> <td> 4.23e-05</td> <td>    1.776</td> <td> 0.076</td> <td> -7.8e-06</td> <td>    0.000</td>\n",
       "</tr>\n",
       "</table>"
      ],
      "text/plain": [
       "<class 'statsmodels.iolib.summary.Summary'>\n",
       "\"\"\"\n",
       "                     Multinomial Logit Model Regression Results                    \n",
       "===================================================================================\n",
       "Dep. Variable:                        MODE   No. Observations:                  210\n",
       "Model:             Multinomial Logit Model   Df Residuals:                      198\n",
       "Method:                                MLE   Df Model:                           12\n",
       "Date:                     Fri, 01 Jan 2021   Pseudo R-squ.:                   0.381\n",
       "Time:                             18:43:16   Pseudo R-bar-squ.:               0.340\n",
       "AIC:                               384.208   Log-Likelihood:               -180.104\n",
       "BIC:                               424.373   LL-Null:                      -291.122\n",
       "===================================================================================\n",
       "                      coef    std err          z      P>|z|      [0.025      0.975]\n",
       "-----------------------------------------------------------------------------------\n",
       "train:intercept     2.7964      1.374      2.036      0.042       0.104       5.489\n",
       "bus:intercept       1.3521      1.469      0.920      0.357      -1.527       4.231\n",
       "car:intercept      -2.2819      1.790     -1.274      0.202      -5.791       1.227\n",
       "TTME               -0.0768      0.020     -3.883      0.000      -0.116      -0.038\n",
       "INVC               -0.0121      0.016     -0.739      0.460      -0.044       0.020\n",
       "INVT               -0.0065      0.002     -3.429      0.001      -0.010      -0.003\n",
       "train:income       -0.0996      0.033     -3.041      0.002      -0.164      -0.035\n",
       "bus:income         -0.0650      0.035     -1.873      0.061      -0.133       0.003\n",
       "car:income         -0.0546      0.046     -1.193      0.233      -0.144       0.035\n",
       "TTME:income        -0.0006      0.001     -1.079      0.281      -0.002       0.001\n",
       "INVC:income         0.0002      0.000      0.576      0.564      -0.001       0.001\n",
       "INVT:income      7.517e-05   4.23e-05      1.776      0.076    -7.8e-06       0.000\n",
       "===================================================================================\n",
       "\"\"\""
      ]
     },
     "execution_count": 67,
     "metadata": {},
     "output_type": "execute_result"
    }
   ],
   "source": [
    "model3 = pl.create_choice_model(data = data3,\n",
    "                               alt_id_col = 'MODE_ID',\n",
    "                               obs_id_col = 'TRAVELER',\n",
    "                               choice_col = 'MODE',\n",
    "                               specification = basic_specification,\n",
    "                               model_type = 'MNL',\n",
    "                               names = basic_names)\n",
    "model3.fit_mle(np.zeros(12))\n",
    "model3.get_statsmodels_summary()"
   ]
  },
  {
   "cell_type": "markdown",
   "metadata": {},
   "source": [
    "By adding the interaction terms, only TTME , INVT and train:income are statistically significant , indicating that the new features are not improving the model.   "
   ]
  },
  {
   "cell_type": "code",
   "execution_count": 68,
   "metadata": {},
   "outputs": [],
   "source": [
    "l3 = model3.fit_summary['Fitted Log-Likelihood']"
   ]
  },
  {
   "cell_type": "code",
   "execution_count": 72,
   "metadata": {},
   "outputs": [
    {
     "data": {
      "text/plain": [
       "0.23772207535235912"
      ]
     },
     "execution_count": 72,
     "metadata": {},
     "output_type": "execute_result"
    }
   ],
   "source": [
    "lrtest(l3,l2,3)"
   ]
  },
  {
   "cell_type": "markdown",
   "metadata": {},
   "source": [
    "Its seen that the model with interaction terms of income with the mode features is not a better model.   "
   ]
  },
  {
   "cell_type": "code",
   "execution_count": null,
   "metadata": {},
   "outputs": [],
   "source": []
  }
 ],
 "metadata": {
  "kernelspec": {
   "display_name": "Python 3",
   "language": "python",
   "name": "python3"
  },
  "language_info": {
   "codemirror_mode": {
    "name": "ipython",
    "version": 3
   },
   "file_extension": ".py",
   "mimetype": "text/x-python",
   "name": "python",
   "nbconvert_exporter": "python",
   "pygments_lexer": "ipython3",
   "version": "3.8.3"
  }
 },
 "nbformat": 4,
 "nbformat_minor": 4
}
