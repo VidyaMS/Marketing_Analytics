{
 "cells": [
  {
   "cell_type": "markdown",
   "metadata": {},
   "source": [
    "This analysis is to build a model to predict the churn probability of customers based on the given customer features or any derived features.    \n",
    "We then can extend the analysis and model scenarios where in  the profitability can be increased.  "
   ]
  },
  {
   "cell_type": "code",
   "execution_count": 1,
   "metadata": {},
   "outputs": [],
   "source": [
    "import pandas as pd\n",
    "import numpy as np\n",
    "import matplotlib.pyplot as plt\n",
    "%matplotlib inline"
   ]
  },
  {
   "cell_type": "code",
   "execution_count": 2,
   "metadata": {},
   "outputs": [],
   "source": [
    "import statsmodels.formula.api as smf"
   ]
  },
  {
   "cell_type": "code",
   "execution_count": 3,
   "metadata": {},
   "outputs": [],
   "source": [
    "from sklearn.metrics import confusion_matrix"
   ]
  },
  {
   "cell_type": "code",
   "execution_count": 4,
   "metadata": {},
   "outputs": [],
   "source": [
    "from scipy.optimize  import minimize"
   ]
  },
  {
   "cell_type": "code",
   "execution_count": 5,
   "metadata": {},
   "outputs": [],
   "source": [
    "from sklearn.model_selection import train_test_split"
   ]
  },
  {
   "cell_type": "code",
   "execution_count": 6,
   "metadata": {},
   "outputs": [],
   "source": [
    "from sklearn import metrics"
   ]
  },
  {
   "cell_type": "code",
   "execution_count": 7,
   "metadata": {},
   "outputs": [],
   "source": [
    "churn_data = pd.read_csv(\"telco_churn_data.csv\")"
   ]
  },
  {
   "cell_type": "code",
   "execution_count": 8,
   "metadata": {},
   "outputs": [
    {
     "name": "stdout",
     "output_type": "stream",
     "text": [
      "<class 'pandas.core.frame.DataFrame'>\n",
      "RangeIndex: 7032 entries, 0 to 7031\n",
      "Data columns (total 9 columns):\n",
      " #   Column            Non-Null Count  Dtype  \n",
      "---  ------            --------------  -----  \n",
      " 0   gender            7032 non-null   object \n",
      " 1   SeniorCitizen     7032 non-null   int64  \n",
      " 2   Partner           7032 non-null   object \n",
      " 3   Dependents        7032 non-null   object \n",
      " 4   PhoneService      7032 non-null   object \n",
      " 5   Contract          7032 non-null   object \n",
      " 6   PaperlessBilling  7032 non-null   object \n",
      " 7   MonthlyCharges    7032 non-null   float64\n",
      " 8   Churn             7032 non-null   object \n",
      "dtypes: float64(1), int64(1), object(7)\n",
      "memory usage: 494.6+ KB\n"
     ]
    }
   ],
   "source": [
    "churn_data.info()"
   ]
  },
  {
   "cell_type": "code",
   "execution_count": 9,
   "metadata": {},
   "outputs": [
    {
     "data": {
      "text/html": [
       "<div>\n",
       "<style scoped>\n",
       "    .dataframe tbody tr th:only-of-type {\n",
       "        vertical-align: middle;\n",
       "    }\n",
       "\n",
       "    .dataframe tbody tr th {\n",
       "        vertical-align: top;\n",
       "    }\n",
       "\n",
       "    .dataframe thead th {\n",
       "        text-align: right;\n",
       "    }\n",
       "</style>\n",
       "<table border=\"1\" class=\"dataframe\">\n",
       "  <thead>\n",
       "    <tr style=\"text-align: right;\">\n",
       "      <th></th>\n",
       "      <th>gender</th>\n",
       "      <th>SeniorCitizen</th>\n",
       "      <th>Partner</th>\n",
       "      <th>Dependents</th>\n",
       "      <th>PhoneService</th>\n",
       "      <th>Contract</th>\n",
       "      <th>PaperlessBilling</th>\n",
       "      <th>MonthlyCharges</th>\n",
       "      <th>Churn</th>\n",
       "    </tr>\n",
       "  </thead>\n",
       "  <tbody>\n",
       "    <tr>\n",
       "      <th>0</th>\n",
       "      <td>Female</td>\n",
       "      <td>0</td>\n",
       "      <td>Yes</td>\n",
       "      <td>No</td>\n",
       "      <td>No</td>\n",
       "      <td>Month-to-month</td>\n",
       "      <td>Yes</td>\n",
       "      <td>29.85</td>\n",
       "      <td>No</td>\n",
       "    </tr>\n",
       "    <tr>\n",
       "      <th>1</th>\n",
       "      <td>Male</td>\n",
       "      <td>0</td>\n",
       "      <td>No</td>\n",
       "      <td>No</td>\n",
       "      <td>Yes</td>\n",
       "      <td>One year</td>\n",
       "      <td>No</td>\n",
       "      <td>56.95</td>\n",
       "      <td>No</td>\n",
       "    </tr>\n",
       "    <tr>\n",
       "      <th>2</th>\n",
       "      <td>Male</td>\n",
       "      <td>0</td>\n",
       "      <td>No</td>\n",
       "      <td>No</td>\n",
       "      <td>Yes</td>\n",
       "      <td>Month-to-month</td>\n",
       "      <td>Yes</td>\n",
       "      <td>53.85</td>\n",
       "      <td>Yes</td>\n",
       "    </tr>\n",
       "    <tr>\n",
       "      <th>3</th>\n",
       "      <td>Male</td>\n",
       "      <td>0</td>\n",
       "      <td>No</td>\n",
       "      <td>No</td>\n",
       "      <td>No</td>\n",
       "      <td>One year</td>\n",
       "      <td>No</td>\n",
       "      <td>42.30</td>\n",
       "      <td>No</td>\n",
       "    </tr>\n",
       "    <tr>\n",
       "      <th>4</th>\n",
       "      <td>Female</td>\n",
       "      <td>0</td>\n",
       "      <td>No</td>\n",
       "      <td>No</td>\n",
       "      <td>Yes</td>\n",
       "      <td>Month-to-month</td>\n",
       "      <td>Yes</td>\n",
       "      <td>70.70</td>\n",
       "      <td>Yes</td>\n",
       "    </tr>\n",
       "  </tbody>\n",
       "</table>\n",
       "</div>"
      ],
      "text/plain": [
       "   gender  SeniorCitizen Partner Dependents PhoneService        Contract  \\\n",
       "0  Female              0     Yes         No           No  Month-to-month   \n",
       "1    Male              0      No         No          Yes        One year   \n",
       "2    Male              0      No         No          Yes  Month-to-month   \n",
       "3    Male              0      No         No           No        One year   \n",
       "4  Female              0      No         No          Yes  Month-to-month   \n",
       "\n",
       "  PaperlessBilling  MonthlyCharges Churn  \n",
       "0              Yes           29.85    No  \n",
       "1               No           56.95    No  \n",
       "2              Yes           53.85   Yes  \n",
       "3               No           42.30    No  \n",
       "4              Yes           70.70   Yes  "
      ]
     },
     "execution_count": 9,
     "metadata": {},
     "output_type": "execute_result"
    }
   ],
   "source": [
    "churn_data.head()"
   ]
  },
  {
   "cell_type": "code",
   "execution_count": 10,
   "metadata": {},
   "outputs": [
    {
     "data": {
      "text/plain": [
       "No     5163\n",
       "Yes    1869\n",
       "Name: Churn, dtype: int64"
      ]
     },
     "execution_count": 10,
     "metadata": {},
     "output_type": "execute_result"
    }
   ],
   "source": [
    "churn_data['Churn'].value_counts()"
   ]
  },
  {
   "cell_type": "code",
   "execution_count": 11,
   "metadata": {},
   "outputs": [
    {
     "data": {
      "text/plain": [
       "0    5890\n",
       "1    1142\n",
       "Name: SeniorCitizen, dtype: int64"
      ]
     },
     "execution_count": 11,
     "metadata": {},
     "output_type": "execute_result"
    }
   ],
   "source": [
    "churn_data['SeniorCitizen'].value_counts()"
   ]
  },
  {
   "cell_type": "code",
   "execution_count": 12,
   "metadata": {},
   "outputs": [
    {
     "data": {
      "text/plain": [
       "No     3639\n",
       "Yes    3393\n",
       "Name: Partner, dtype: int64"
      ]
     },
     "execution_count": 12,
     "metadata": {},
     "output_type": "execute_result"
    }
   ],
   "source": [
    "churn_data['Partner'].value_counts()"
   ]
  },
  {
   "cell_type": "code",
   "execution_count": 13,
   "metadata": {},
   "outputs": [
    {
     "data": {
      "text/plain": [
       "No     4933\n",
       "Yes    2099\n",
       "Name: Dependents, dtype: int64"
      ]
     },
     "execution_count": 13,
     "metadata": {},
     "output_type": "execute_result"
    }
   ],
   "source": [
    "churn_data['Dependents'].value_counts()"
   ]
  },
  {
   "cell_type": "code",
   "execution_count": 14,
   "metadata": {},
   "outputs": [
    {
     "data": {
      "text/plain": [
       "Yes    6352\n",
       "No      680\n",
       "Name: PhoneService, dtype: int64"
      ]
     },
     "execution_count": 14,
     "metadata": {},
     "output_type": "execute_result"
    }
   ],
   "source": [
    "churn_data['PhoneService'].value_counts()"
   ]
  },
  {
   "cell_type": "code",
   "execution_count": 15,
   "metadata": {},
   "outputs": [
    {
     "data": {
      "text/plain": [
       "Month-to-month    3875\n",
       "Two year          1685\n",
       "One year          1472\n",
       "Name: Contract, dtype: int64"
      ]
     },
     "execution_count": 15,
     "metadata": {},
     "output_type": "execute_result"
    }
   ],
   "source": [
    "churn_data['Contract'].value_counts()"
   ]
  },
  {
   "cell_type": "code",
   "execution_count": 16,
   "metadata": {},
   "outputs": [
    {
     "data": {
      "text/plain": [
       "Yes    4168\n",
       "No     2864\n",
       "Name: PaperlessBilling, dtype: int64"
      ]
     },
     "execution_count": 16,
     "metadata": {},
     "output_type": "execute_result"
    }
   ],
   "source": [
    "churn_data['PaperlessBilling'].value_counts()"
   ]
  },
  {
   "cell_type": "code",
   "execution_count": 17,
   "metadata": {},
   "outputs": [],
   "source": [
    "## convert yes/no to 1/0.\n",
    "def change_val(val):\n",
    "    if val == 'Yes':\n",
    "        return 1\n",
    "    else:\n",
    "        return 0\n",
    "churn_data['Churn'] = churn_data['Churn'].apply(lambda x: change_val(x))"
   ]
  },
  {
   "cell_type": "code",
   "execution_count": 18,
   "metadata": {},
   "outputs": [],
   "source": [
    "## select the first 5000 customers\n",
    "data = churn_data.copy()\n",
    "data = data[:5000]"
   ]
  },
  {
   "cell_type": "code",
   "execution_count": 19,
   "metadata": {},
   "outputs": [
    {
     "name": "stdout",
     "output_type": "stream",
     "text": [
      "Optimization terminated successfully.\n",
      "         Current function value: 0.450077\n",
      "         Iterations 8\n"
     ]
    },
    {
     "data": {
      "text/html": [
       "<table class=\"simpletable\">\n",
       "<caption>Logit Regression Results</caption>\n",
       "<tr>\n",
       "  <th>Dep. Variable:</th>         <td>Churn</td>      <th>  No. Observations:  </th>   <td>  5000</td>  \n",
       "</tr>\n",
       "<tr>\n",
       "  <th>Model:</th>                 <td>Logit</td>      <th>  Df Residuals:      </th>   <td>  4991</td>  \n",
       "</tr>\n",
       "<tr>\n",
       "  <th>Method:</th>                 <td>MLE</td>       <th>  Df Model:          </th>   <td>     8</td>  \n",
       "</tr>\n",
       "<tr>\n",
       "  <th>Date:</th>            <td>Tue, 29 Dec 2020</td> <th>  Pseudo R-squ.:     </th>   <td>0.2194</td>  \n",
       "</tr>\n",
       "<tr>\n",
       "  <th>Time:</th>                <td>22:20:48</td>     <th>  Log-Likelihood:    </th>  <td> -2250.4</td> \n",
       "</tr>\n",
       "<tr>\n",
       "  <th>converged:</th>             <td>True</td>       <th>  LL-Null:           </th>  <td> -2882.9</td> \n",
       "</tr>\n",
       "<tr>\n",
       "  <th>Covariance Type:</th>     <td>nonrobust</td>    <th>  LLR p-value:       </th> <td>8.375e-268</td>\n",
       "</tr>\n",
       "</table>\n",
       "<table class=\"simpletable\">\n",
       "<tr>\n",
       "             <td></td>                <th>coef</th>     <th>std err</th>      <th>z</th>      <th>P>|z|</th>  <th>[0.025</th>    <th>0.975]</th>  \n",
       "</tr>\n",
       "<tr>\n",
       "  <th>Intercept</th>               <td>   -1.5948</td> <td>    0.117</td> <td>  -13.684</td> <td> 0.000</td> <td>   -1.823</td> <td>   -1.366</td>\n",
       "</tr>\n",
       "<tr>\n",
       "  <th>gender[T.Male]</th>          <td>   -0.0376</td> <td>    0.073</td> <td>   -0.515</td> <td> 0.607</td> <td>   -0.181</td> <td>    0.105</td>\n",
       "</tr>\n",
       "<tr>\n",
       "  <th>Partner[T.Yes]</th>          <td>   -0.2817</td> <td>    0.085</td> <td>   -3.302</td> <td> 0.001</td> <td>   -0.449</td> <td>   -0.115</td>\n",
       "</tr>\n",
       "<tr>\n",
       "  <th>Dependents[T.Yes]</th>       <td>   -0.2074</td> <td>    0.102</td> <td>   -2.038</td> <td> 0.042</td> <td>   -0.407</td> <td>   -0.008</td>\n",
       "</tr>\n",
       "<tr>\n",
       "  <th>Contract[T.One year]</th>    <td>   -1.7092</td> <td>    0.111</td> <td>  -15.426</td> <td> 0.000</td> <td>   -1.926</td> <td>   -1.492</td>\n",
       "</tr>\n",
       "<tr>\n",
       "  <th>Contract[T.Two year]</th>    <td>   -3.2776</td> <td>    0.199</td> <td>  -16.480</td> <td> 0.000</td> <td>   -3.667</td> <td>   -2.888</td>\n",
       "</tr>\n",
       "<tr>\n",
       "  <th>PaperlessBilling[T.Yes]</th> <td>    0.4115</td> <td>    0.083</td> <td>    4.937</td> <td> 0.000</td> <td>    0.248</td> <td>    0.575</td>\n",
       "</tr>\n",
       "<tr>\n",
       "  <th>SeniorCitizen</th>           <td>    0.2417</td> <td>    0.093</td> <td>    2.591</td> <td> 0.010</td> <td>    0.059</td> <td>    0.424</td>\n",
       "</tr>\n",
       "<tr>\n",
       "  <th>MonthlyCharges</th>          <td>    0.0164</td> <td>    0.001</td> <td>   10.926</td> <td> 0.000</td> <td>    0.013</td> <td>    0.019</td>\n",
       "</tr>\n",
       "</table>"
      ],
      "text/plain": [
       "<class 'statsmodels.iolib.summary.Summary'>\n",
       "\"\"\"\n",
       "                           Logit Regression Results                           \n",
       "==============================================================================\n",
       "Dep. Variable:                  Churn   No. Observations:                 5000\n",
       "Model:                          Logit   Df Residuals:                     4991\n",
       "Method:                           MLE   Df Model:                            8\n",
       "Date:                Tue, 29 Dec 2020   Pseudo R-squ.:                  0.2194\n",
       "Time:                        22:20:48   Log-Likelihood:                -2250.4\n",
       "converged:                       True   LL-Null:                       -2882.9\n",
       "Covariance Type:            nonrobust   LLR p-value:                8.375e-268\n",
       "===========================================================================================\n",
       "                              coef    std err          z      P>|z|      [0.025      0.975]\n",
       "-------------------------------------------------------------------------------------------\n",
       "Intercept                  -1.5948      0.117    -13.684      0.000      -1.823      -1.366\n",
       "gender[T.Male]             -0.0376      0.073     -0.515      0.607      -0.181       0.105\n",
       "Partner[T.Yes]             -0.2817      0.085     -3.302      0.001      -0.449      -0.115\n",
       "Dependents[T.Yes]          -0.2074      0.102     -2.038      0.042      -0.407      -0.008\n",
       "Contract[T.One year]       -1.7092      0.111    -15.426      0.000      -1.926      -1.492\n",
       "Contract[T.Two year]       -3.2776      0.199    -16.480      0.000      -3.667      -2.888\n",
       "PaperlessBilling[T.Yes]     0.4115      0.083      4.937      0.000       0.248       0.575\n",
       "SeniorCitizen               0.2417      0.093      2.591      0.010       0.059       0.424\n",
       "MonthlyCharges              0.0164      0.001     10.926      0.000       0.013       0.019\n",
       "===========================================================================================\n",
       "\"\"\""
      ]
     },
     "execution_count": 19,
     "metadata": {},
     "output_type": "execute_result"
    }
   ],
   "source": [
    "## logistic regression\n",
    "m1 = smf.logit(\n",
    "  formula='Churn ~ gender + SeniorCitizen + Partner + Dependents  + Contract + PaperlessBilling + MonthlyCharges',\n",
    "  data= data) \\\n",
    ".fit()\n",
    "\n",
    "m1.summary()"
   ]
  },
  {
   "cell_type": "markdown",
   "metadata": {},
   "source": [
    "The log odds of probability of churn decreases with \n",
    "Male gender, with Partner as Yes, with Dependent as Yes , change of billing plan from month-to-month to one year , two year.  \n",
    "The log odds of probability of churn increases with increase in monthly charges or being a senior citizen."
   ]
  },
  {
   "cell_type": "code",
   "execution_count": 20,
   "metadata": {},
   "outputs": [],
   "source": [
    "## predict the probability of churn \n",
    "churn_prob = m1.predict()\n",
    "pred_class = [1 if i > 0.5 else 0 for i in churn_prob]"
   ]
  },
  {
   "cell_type": "code",
   "execution_count": 21,
   "metadata": {},
   "outputs": [
    {
     "data": {
      "text/plain": [
       "array([[3270,  413],\n",
       "       [ 778,  539]])"
      ]
     },
     "execution_count": 21,
     "metadata": {},
     "output_type": "execute_result"
    }
   ],
   "source": [
    "## \n",
    "confusion_matrix(data['Churn'],pred_class )"
   ]
  },
  {
   "cell_type": "code",
   "execution_count": 22,
   "metadata": {},
   "outputs": [],
   "source": [
    "fpr, tpr, thresholds = metrics.roc_curve(data['Churn'], churn_prob)\n",
    "pr, recall, thresholds = metrics.precision_recall_curve(data['Churn'], churn_prob)"
   ]
  },
  {
   "cell_type": "code",
   "execution_count": 23,
   "metadata": {},
   "outputs": [],
   "source": [
    "roc_auc =  metrics.auc(fpr, tpr)\n",
    "f1_score = metrics.f1_score(data['Churn'],pred_class)\n"
   ]
  },
  {
   "cell_type": "code",
   "execution_count": 34,
   "metadata": {},
   "outputs": [
    {
     "data": {
      "text/plain": [
       "Text(0.5, 0, 'Recall')"
      ]
     },
     "execution_count": 34,
     "metadata": {},
     "output_type": "execute_result"
    },
    {
     "data": {
      "image/png": "[encoded data removed]",
      "text/plain": [
       "<Figure size 432x288 with 1 Axes>"
      ]
     },
     "metadata": {
      "needs_background": "light"
     },
     "output_type": "display_data"
    }
   ],
   "source": [
    "plt.title('PR curve')\n",
    "plt.plot(recall, pr, 'b', label = 'F1 score = %0.2f' % f1_score)\n",
    "plt.legend(loc = 'lower right')\n",
    "plt.plot([1, 0], [1, 0],'r--')\n",
    "plt.xlim([0, 1])\n",
    "plt.ylim([0, 1])\n",
    "plt.ylabel('Precision')\n",
    "plt.xlabel('Recall')"
   ]
  },
  {
   "cell_type": "markdown",
   "metadata": {},
   "source": [
    "Precision of the model is poor."
   ]
  },
  {
   "cell_type": "code",
   "execution_count": 21,
   "metadata": {},
   "outputs": [
    {
     "data": {
      "text/plain": [
       "Text(0.5, 0, 'False Positive Rate')"
      ]
     },
     "execution_count": 21,
     "metadata": {},
     "output_type": "execute_result"
    },
    {
     "data": {
      "image/png": "[encoded data removed]",
      "text/plain": [
       "<Figure size 432x288 with 1 Axes>"
      ]
     },
     "metadata": {
      "needs_background": "light"
     },
     "output_type": "display_data"
    }
   ],
   "source": [
    "plt.title('Receiver Operating Characteristic')\n",
    "plt.plot(fpr, tpr, 'b', label = 'AUC = %0.2f' % roc_auc)\n",
    "plt.legend(loc = 'lower right')\n",
    "plt.plot([0, 1], [0, 1],'r--')\n",
    "plt.xlim([0, 1])\n",
    "plt.ylim([0, 1])\n",
    "plt.ylabel('True Positive Rate')\n",
    "plt.xlabel('False Positive Rate')"
   ]
  },
  {
   "cell_type": "code",
   "execution_count": 22,
   "metadata": {},
   "outputs": [],
   "source": [
    "results_df = data.copy()\n",
    "results_df['prob'] = churn_prob\n",
    "##\n"
   ]
  },
  {
   "cell_type": "code",
   "execution_count": 23,
   "metadata": {},
   "outputs": [
    {
     "data": {
      "text/plain": [
       "(array([1573.,  394.,  440.,  334.,  393.,  460.,  461.,  551.,  316.,\n",
       "          78.]),\n",
       " array([0.00612897, 0.07686536, 0.14760174, 0.21833813, 0.28907452,\n",
       "        0.3598109 , 0.43054729, 0.50128368, 0.57202006, 0.64275645,\n",
       "        0.71349284]),\n",
       " <a list of 10 Patch objects>)"
      ]
     },
     "execution_count": 23,
     "metadata": {},
     "output_type": "execute_result"
    },
    {
     "data": {
      "image/png": "[encoded data removed]",
      "text/plain": [
       "<Figure size 432x288 with 1 Axes>"
      ]
     },
     "metadata": {
      "needs_background": "light"
     },
     "output_type": "display_data"
    }
   ],
   "source": [
    "## How many customers have churn probablity of less than 0.2 \n",
    "plt.hist(results_df['prob'])"
   ]
  },
  {
   "cell_type": "code",
   "execution_count": 54,
   "metadata": {},
   "outputs": [
    {
     "data": {
      "text/plain": [
       "(2219, 10)"
      ]
     },
     "execution_count": 54,
     "metadata": {},
     "output_type": "execute_result"
    }
   ],
   "source": [
    "results_df[results_df['prob'] < 0.2].shape"
   ]
  },
  {
   "cell_type": "markdown",
   "metadata": {},
   "source": [
    "2219 customers have a low churn probability.  "
   ]
  },
  {
   "cell_type": "code",
   "execution_count": 55,
   "metadata": {},
   "outputs": [
    {
     "data": {
      "text/plain": [
       "Intercept                 -1.594757\n",
       "gender[T.Male]            -0.037550\n",
       "Partner[T.Yes]            -0.281698\n",
       "Dependents[T.Yes]         -0.207355\n",
       "Contract[T.One year]      -1.709170\n",
       "Contract[T.Two year]      -3.277585\n",
       "PaperlessBilling[T.Yes]    0.411512\n",
       "SeniorCitizen              0.241657\n",
       "MonthlyCharges             0.016378\n",
       "dtype: float64"
      ]
     },
     "execution_count": 55,
     "metadata": {},
     "output_type": "execute_result"
    }
   ],
   "source": [
    "m1.params"
   ]
  },
  {
   "cell_type": "code",
   "execution_count": 58,
   "metadata": {},
   "outputs": [
    {
     "data": {
      "text/plain": [
       "104.35727472576598"
      ]
     },
     "execution_count": 58,
     "metadata": {},
     "output_type": "execute_result"
    }
   ],
   "source": [
    "## By how much can the monthly charge increase for change of plan from 'month to month' to 'one year' \n",
    "## so that there is a reduction in churn probability \n",
    "\n",
    "-m1.params[4]/m1.params[8]"
   ]
  },
  {
   "cell_type": "markdown",
   "metadata": {},
   "source": [
    "The monthy charge can increase by 104 with a change in plan from 'month to month' to 'one year' and have a reduction in log odds of probability of churn.  "
   ]
  },
  {
   "cell_type": "code",
   "execution_count": 24,
   "metadata": {},
   "outputs": [],
   "source": [
    "## function to calculate customer lifetime value.\n",
    "## for an increement in monthly charges, estimate the probability of churn and hence the retention rate.\n",
    "\n",
    "def get_clv(incr, data):\n",
    "    d = 0.97 # discount factor\n",
    "    df = data.copy()\n",
    "    df = df[df['Churn']==0]\n",
    "    df['MonthlyCharges'] = df['MonthlyCharges']*incr\n",
    "    r = (1- m1.predict(df))\n",
    "    clv = df['MonthlyCharges']/(1-r*d)\n",
    "    \n",
    "    return (sum(clv))                           "
   ]
  },
  {
   "cell_type": "code",
   "execution_count": 25,
   "metadata": {},
   "outputs": [
    {
     "data": {
      "text/plain": [
       "1911803.7655382946"
      ]
     },
     "execution_count": 25,
     "metadata": {},
     "output_type": "execute_result"
    }
   ],
   "source": [
    "get_clv(1,data)"
   ]
  },
  {
   "cell_type": "code",
   "execution_count": 26,
   "metadata": {},
   "outputs": [
    {
     "data": {
      "text/plain": [
       "2111084.2168128304"
      ]
     },
     "execution_count": 26,
     "metadata": {},
     "output_type": "execute_result"
    }
   ],
   "source": [
    "get_clv(1.5, data)"
   ]
  },
  {
   "cell_type": "code",
   "execution_count": 27,
   "metadata": {},
   "outputs": [],
   "source": [
    "## function that can be optimised to find out the optimal increment in monthly charge , which maximised the customer life\n",
    "## time value.\n",
    "def get_clv_2(incr):\n",
    "    d = 0.97 # discount factor\n",
    "    df = data.copy()\n",
    "    df = df[df['Churn']==0]\n",
    "    df['MonthlyCharges'] = df['MonthlyCharges']*incr\n",
    "    r = (1- m1.predict(df))\n",
    "    clv = df['MonthlyCharges']/(1-r*d)\n",
    "    \n",
    "    return -(sum(clv)) "
   ]
  },
  {
   "cell_type": "code",
   "execution_count": 28,
   "metadata": {},
   "outputs": [],
   "source": [
    "## increment between 1 and 2 .\n",
    "bounds = [(1,2)]"
   ]
  },
  {
   "cell_type": "code",
   "execution_count": 29,
   "metadata": {},
   "outputs": [
    {
     "name": "stdout",
     "output_type": "stream",
     "text": [
      "Optimization terminated successfully    (Exit mode 0)\n",
      "            Current function value: -2120912.511311958\n",
      "            Iterations: 7\n",
      "            Function evaluations: 15\n",
      "            Gradient evaluations: 7\n"
     ]
    }
   ],
   "source": [
    "soln = minimize(get_clv_2 , 4,  bounds = bounds ,  method = 'SLSQP' , options = {'disp' : True} )"
   ]
  },
  {
   "cell_type": "code",
   "execution_count": 31,
   "metadata": {},
   "outputs": [
    {
     "data": {
      "text/plain": [
       "array([1.67873148])"
      ]
     },
     "execution_count": 31,
     "metadata": {},
     "output_type": "execute_result"
    }
   ],
   "source": [
    "## Optimal Increment \n",
    "soln.x"
   ]
  },
  {
   "cell_type": "code",
   "execution_count": 32,
   "metadata": {},
   "outputs": [
    {
     "data": {
      "text/plain": [
       "2120912.511311958"
      ]
     },
     "execution_count": 32,
     "metadata": {},
     "output_type": "execute_result"
    }
   ],
   "source": [
    "## Maximised CLV.\n",
    "-soln.fun"
   ]
  },
  {
   "cell_type": "markdown",
   "metadata": {},
   "source": [
    "Optimal hike in monthly charge is 67% and the maximised total customer life time value is as shown."
   ]
  },
  {
   "cell_type": "code",
   "execution_count": 33,
   "metadata": {},
   "outputs": [
    {
     "data": {
      "text/plain": [
       "119172.82448040019"
      ]
     },
     "execution_count": 33,
     "metadata": {},
     "output_type": "execute_result"
    }
   ],
   "source": [
    "## by how much would the CLV  increase if the there is a monthly charge increase of 20% in the following month - 2. \n",
    "get_clv(1.2,data) - get_clv(1,data)"
   ]
  },
  {
   "cell_type": "code",
   "execution_count": null,
   "metadata": {},
   "outputs": [],
   "source": []
  }
 ],
 "metadata": {
  "kernelspec": {
   "display_name": "Python 3",
   "language": "python",
   "name": "python3"
  },
  "language_info": {
   "codemirror_mode": {
    "name": "ipython",
    "version": 3
   },
   "file_extension": ".py",
   "mimetype": "text/x-python",
   "name": "python",
   "nbconvert_exporter": "python",
   "pygments_lexer": "ipython3",
   "version": "3.8.3"
  }
 },
 "nbformat": 4,
 "nbformat_minor": 4
}
